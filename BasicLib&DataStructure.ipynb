{
 "cells": [
  {
   "cell_type": "code",
   "execution_count": 14,
   "metadata": {},
   "outputs": [],
   "source": [
    "#Import necessary libraries\n",
    "import pandas as pd\n",
    "import numpy as np"
   ]
  },
  {
   "cell_type": "code",
   "execution_count": 15,
   "metadata": {},
   "outputs": [
    {
     "name": "stdout",
     "output_type": "stream",
     "text": [
      "9\n"
     ]
    }
   ],
   "source": [
    "\n",
    "def add_numbers(a, b):\n",
    "    result = a + b\n",
    "    return result\n",
    "\n",
    "def sub_numbers(a, b):\n",
    "    # Write code to return sum of a and b\n",
    "    result =  a - b #Replace None with your code\n",
    "    return result\n",
    "\n",
    "def mult_numbers(a, b):\n",
    "    #Code for mutiplication of a and b\n",
    "    result = a * b # stored result of multiplication of a & b\n",
    "    return result #return the result\n",
    "\n",
    "print(mult_numbers(add_numbers(5,4), sub_numbers(5,4)))"
   ]
  },
  {
   "cell_type": "code",
   "execution_count": 16,
   "metadata": {},
   "outputs": [
    {
     "data": {
      "text/plain": [
       "'Your name is Josephine'"
      ]
     },
     "execution_count": 16,
     "metadata": {},
     "output_type": "execute_result"
    }
   ],
   "source": [
    "\n",
    "def print_name(name):\n",
    "    formatted_result = \"Your name is \"+name # Added formated string with input name\n",
    "    return formatted_result # return the formated statment\n",
    "\n",
    "print_name(\"Josephine\") # execute the procedure"
   ]
  },
  {
   "cell_type": "code",
   "execution_count": 17,
   "metadata": {},
   "outputs": [
    {
     "name": "stdout",
     "output_type": "stream",
     "text": [
      "Items divisible by 2 :[2, 4]\n",
      "CEO: Microsoft, Name: Satya Nadella\n",
      "CEO: Amazon, Name: Jeff Bezos\n",
      "CEO: Apple, Name: Tim Cook\n"
     ]
    }
   ],
   "source": [
    "x = [1, 2, 3, 4, 5, 6, 7, 8, 9, 10]\n",
    "y = {\n",
    "    'Satya Nadella': 'Microsoft',\n",
    "    'Jeff Bezos': 'Amazon',\n",
    "    'Tim Cook': 'Apple'\n",
    "}\n",
    "def intDiv2Less6(a):\n",
    "    result=[]\n",
    "    for x in a: #For loop to iterate the list x\n",
    "        if(x%2==0 and x < 6): #checked for conditions\n",
    "            result.append(x)\n",
    "    return result;\n",
    "\n",
    "def strPrintList(y):\n",
    "    for key,value in y.items(): # Iterate the list y as key value pair by using items()\n",
    "        print(\"CEO: \"+value+\", Name: \"+key) # Printed the CEO and Name on the screen\n",
    "\n",
    "       \n",
    "print('Items divisible by 2 :'+str(intDiv2Less6(x)))\n",
    "strPrintList(y)"
   ]
  },
  {
   "cell_type": "code",
   "execution_count": null,
   "metadata": {},
   "outputs": [],
   "source": []
  }
 ],
 "metadata": {
  "kernelspec": {
   "display_name": "Python 3",
   "language": "python",
   "name": "python3"
  },
  "language_info": {
   "codemirror_mode": {
    "name": "ipython",
    "version": 3
   },
   "file_extension": ".py",
   "mimetype": "text/x-python",
   "name": "python",
   "nbconvert_exporter": "python",
   "pygments_lexer": "ipython3",
   "version": "3.8.8"
  }
 },
 "nbformat": 4,
 "nbformat_minor": 2
}
