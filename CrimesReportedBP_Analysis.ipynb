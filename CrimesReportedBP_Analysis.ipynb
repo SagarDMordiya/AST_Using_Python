{
 "cells": [
  {
   "cell_type": "code",
   "execution_count": 1,
   "id": "20a7b2b5",
   "metadata": {},
   "outputs": [],
   "source": [
    "#pip install numpy\n",
    "#pip install pandas\n",
    "#pip install urllib\n",
    "#pip install seaborn\n",
    "#pip install matplotlib\n",
    "#pip install scipy\n",
    "#pip install scikit-learn\n",
    "#pip install statsmodels"
   ]
  },
  {
   "cell_type": "code",
   "execution_count": 2,
   "id": "14e0f2ff",
   "metadata": {},
   "outputs": [],
   "source": [
    "import numpy as np\n",
    "import pandas as pd\n",
    "import urllib.request\n",
    "import seaborn as sns\n",
    "import matplotlib.pyplot as plt\n",
    "from scipy import stats\n",
    "from sklearn import preprocessing\n",
    "from sklearn.model_selection import train_test_split\n",
    "from sklearn.linear_model import LogisticRegression\n",
    "import statsmodels.api as sm\n",
    "from sklearn.metrics import classification_report, confusion_matrix\n",
    "import warnings\n",
    "warnings.filterwarnings('ignore')"
   ]
  },
  {
   "cell_type": "markdown",
   "id": "e25737f6",
   "metadata": {},
   "source": [
    "Installed and Imported the packages needed for the smooth execution"
   ]
  },
  {
   "cell_type": "markdown",
   "id": "109f3c7d",
   "metadata": {},
   "source": [
    "## Introduction\n",
    "\n",
    "In this assignment, we are going to perform the analysis on the dataset which contains the information about the crime incidents by Boston Police Department (BPD). We are going to perform the basic analysis on dataset which includes primilanary analysis, Data visualization. After that we are going to answer the bussiness question using the regression model. Lastly, we will address how we can improve or reduce the crime rate."
   ]
  },
  {
   "cell_type": "markdown",
   "id": "846cc79e",
   "metadata": {},
   "source": [
    "## Data Extraction\n",
    "\n",
    "For this Assignment we have used the Dataset of Crime incident Reports provided by the Boston Police Department (BPD) and Dataset is publicly available on the website https://data.boston.gov/dataset/. For this assignment we are going to use the dataset is about the year 2021 and we are going to download the dataset using python and store the dataset for the further execution.\n",
    "\n",
    "Direct Link for the Dataset :- https://data.boston.gov/dataset/6220d948-eae2-4e4b-8723-2dc8e67722a3/resource/f4495ee9-c42c-4019-82c1-d067f07e45d2/download/tmpsq1_rla4.csv\n",
    "\n",
    "### Bussines Question:\n",
    "\n",
    "1. Which offense has the highest crime rate?\n",
    "2. How we can reduce the shooting rate?\n",
    "3. Which District is unsafe?\n",
    "4. Which months are safest and which are not?"
   ]
  },
  {
   "cell_type": "code",
   "execution_count": 3,
   "id": "4e538fda",
   "metadata": {},
   "outputs": [
    {
     "data": {
      "text/plain": [
       "('Crime_incident_Dataset.csv', <http.client.HTTPMessage at 0x20db93a2b80>)"
      ]
     },
     "execution_count": 3,
     "metadata": {},
     "output_type": "execute_result"
    }
   ],
   "source": [
    "#Retriving data from Internet\n",
    "\n",
    "#Dataset link\n",
    "url = 'https://data.boston.gov/dataset/6220d948-eae2-4e4b-8723-2dc8e67722a3/resource/f4495ee9-c42c-4019-82c1-d067f07e45d2/download/tmpsq1_rla4.csv'\n",
    "\n",
    "#retriving the dataset in current directory\n",
    "urllib.request.urlretrieve(url, 'Crime_incident_Dataset.csv')\n"
   ]
  },
  {
   "cell_type": "markdown",
   "id": "08cbe737",
   "metadata": {},
   "source": [
    "Now, we have sucessfully downloaded the csv file from the website and store in the current directory to access later.\n",
    "After this we are going to read csv file and will start with the analysis."
   ]
  },
  {
   "cell_type": "code",
   "execution_count": 4,
   "id": "d8c381da",
   "metadata": {
    "scrolled": true
   },
   "outputs": [
    {
     "data": {
      "text/html": [
       "<div>\n",
       "<style scoped>\n",
       "    .dataframe tbody tr th:only-of-type {\n",
       "        vertical-align: middle;\n",
       "    }\n",
       "\n",
       "    .dataframe tbody tr th {\n",
       "        vertical-align: top;\n",
       "    }\n",
       "\n",
       "    .dataframe thead th {\n",
       "        text-align: right;\n",
       "    }\n",
       "</style>\n",
       "<table border=\"1\" class=\"dataframe\">\n",
       "  <thead>\n",
       "    <tr style=\"text-align: right;\">\n",
       "      <th></th>\n",
       "      <th>INCIDENT_NUMBER</th>\n",
       "      <th>OFFENSE_CODE</th>\n",
       "      <th>OFFENSE_CODE_GROUP</th>\n",
       "      <th>OFFENSE_DESCRIPTION</th>\n",
       "      <th>DISTRICT</th>\n",
       "      <th>REPORTING_AREA</th>\n",
       "      <th>SHOOTING</th>\n",
       "      <th>OCCURRED_ON_DATE</th>\n",
       "      <th>YEAR</th>\n",
       "      <th>MONTH</th>\n",
       "      <th>DAY_OF_WEEK</th>\n",
       "      <th>HOUR</th>\n",
       "      <th>UCR_PART</th>\n",
       "      <th>STREET</th>\n",
       "      <th>Lat</th>\n",
       "      <th>Long</th>\n",
       "      <th>Location</th>\n",
       "    </tr>\n",
       "  </thead>\n",
       "  <tbody>\n",
       "    <tr>\n",
       "      <th>0</th>\n",
       "      <td>PLTEST005</td>\n",
       "      <td>520</td>\n",
       "      <td>NaN</td>\n",
       "      <td>BURGLARY - RESIDENTIAL</td>\n",
       "      <td>B2</td>\n",
       "      <td>289</td>\n",
       "      <td>0</td>\n",
       "      <td>2021-10-13 00:00:00</td>\n",
       "      <td>2021</td>\n",
       "      <td>10</td>\n",
       "      <td>Wednesday</td>\n",
       "      <td>0</td>\n",
       "      <td>NaN</td>\n",
       "      <td>SCHROEDER PLZ</td>\n",
       "      <td>42.333679</td>\n",
       "      <td>-71.091878</td>\n",
       "      <td>(42.3336792181085, -71.0918775461846)</td>\n",
       "    </tr>\n",
       "    <tr>\n",
       "      <th>1</th>\n",
       "      <td>PLTEST003</td>\n",
       "      <td>3114</td>\n",
       "      <td>NaN</td>\n",
       "      <td>INVESTIGATE PROPERTY</td>\n",
       "      <td>B2</td>\n",
       "      <td>289</td>\n",
       "      <td>0</td>\n",
       "      <td>2021-05-12 00:00:00</td>\n",
       "      <td>2021</td>\n",
       "      <td>5</td>\n",
       "      <td>Wednesday</td>\n",
       "      <td>0</td>\n",
       "      <td>NaN</td>\n",
       "      <td>SCHROEDER PLZ</td>\n",
       "      <td>42.333679</td>\n",
       "      <td>-71.091878</td>\n",
       "      <td>(42.3336792181085, -71.0918775461846)</td>\n",
       "    </tr>\n",
       "    <tr>\n",
       "      <th>2</th>\n",
       "      <td>PLTEST002</td>\n",
       "      <td>3114</td>\n",
       "      <td>NaN</td>\n",
       "      <td>INVESTIGATE PROPERTY</td>\n",
       "      <td>B2</td>\n",
       "      <td>289</td>\n",
       "      <td>0</td>\n",
       "      <td>2021-05-12 00:00:00</td>\n",
       "      <td>2021</td>\n",
       "      <td>5</td>\n",
       "      <td>Wednesday</td>\n",
       "      <td>0</td>\n",
       "      <td>NaN</td>\n",
       "      <td>SCHROEDER PLZ</td>\n",
       "      <td>42.333679</td>\n",
       "      <td>-71.091878</td>\n",
       "      <td>(42.3336792181085, -71.0918775461846)</td>\n",
       "    </tr>\n",
       "    <tr>\n",
       "      <th>3</th>\n",
       "      <td>PLTEST001</td>\n",
       "      <td>3114</td>\n",
       "      <td>NaN</td>\n",
       "      <td>INVESTIGATE PROPERTY</td>\n",
       "      <td>B2</td>\n",
       "      <td></td>\n",
       "      <td>0</td>\n",
       "      <td>2021-03-29 00:00:00</td>\n",
       "      <td>2021</td>\n",
       "      <td>3</td>\n",
       "      <td>Monday</td>\n",
       "      <td>0</td>\n",
       "      <td>NaN</td>\n",
       "      <td>SCHROEDER PLAZA</td>\n",
       "      <td>0.000000</td>\n",
       "      <td>0.000000</td>\n",
       "      <td>(0, 0)</td>\n",
       "    </tr>\n",
       "    <tr>\n",
       "      <th>4</th>\n",
       "      <td>312030979</td>\n",
       "      <td>3201</td>\n",
       "      <td>NaN</td>\n",
       "      <td>PROPERTY - LOST/ MISSING</td>\n",
       "      <td>E13</td>\n",
       "      <td>465</td>\n",
       "      <td>0</td>\n",
       "      <td>2021-03-22 00:00:00</td>\n",
       "      <td>2021</td>\n",
       "      <td>3</td>\n",
       "      <td>Monday</td>\n",
       "      <td>0</td>\n",
       "      <td>NaN</td>\n",
       "      <td>BLUE HILL AVE</td>\n",
       "      <td>42.284826</td>\n",
       "      <td>-71.091374</td>\n",
       "      <td>(42.2848257658049, -71.091373689388)</td>\n",
       "    </tr>\n",
       "    <tr>\n",
       "      <th>...</th>\n",
       "      <td>...</td>\n",
       "      <td>...</td>\n",
       "      <td>...</td>\n",
       "      <td>...</td>\n",
       "      <td>...</td>\n",
       "      <td>...</td>\n",
       "      <td>...</td>\n",
       "      <td>...</td>\n",
       "      <td>...</td>\n",
       "      <td>...</td>\n",
       "      <td>...</td>\n",
       "      <td>...</td>\n",
       "      <td>...</td>\n",
       "      <td>...</td>\n",
       "      <td>...</td>\n",
       "      <td>...</td>\n",
       "      <td>...</td>\n",
       "    </tr>\n",
       "    <tr>\n",
       "      <th>65701</th>\n",
       "      <td>121000816</td>\n",
       "      <td>3304</td>\n",
       "      <td>NaN</td>\n",
       "      <td>NOISY PARTY/RADIO-NO ARREST</td>\n",
       "      <td>E5</td>\n",
       "      <td>675</td>\n",
       "      <td>0</td>\n",
       "      <td>2021-01-04 00:00:00</td>\n",
       "      <td>2021</td>\n",
       "      <td>1</td>\n",
       "      <td>Monday</td>\n",
       "      <td>0</td>\n",
       "      <td>NaN</td>\n",
       "      <td>BRADFIELD AVENUE</td>\n",
       "      <td>0.000000</td>\n",
       "      <td>0.000000</td>\n",
       "      <td>(0, 0)</td>\n",
       "    </tr>\n",
       "    <tr>\n",
       "      <th>65702</th>\n",
       "      <td>120221042</td>\n",
       "      <td>3006</td>\n",
       "      <td>NaN</td>\n",
       "      <td>SICK/INJURED/MEDICAL - PERSON</td>\n",
       "      <td>E5</td>\n",
       "      <td>680</td>\n",
       "      <td>0</td>\n",
       "      <td>2021-04-02 10:45:00</td>\n",
       "      <td>2021</td>\n",
       "      <td>4</td>\n",
       "      <td>Friday</td>\n",
       "      <td>10</td>\n",
       "      <td>NaN</td>\n",
       "      <td>WASHINGTON ST</td>\n",
       "      <td>42.283902</td>\n",
       "      <td>-71.130863</td>\n",
       "      <td>(42.2839024364831, -71.130862626435)</td>\n",
       "    </tr>\n",
       "    <tr>\n",
       "      <th>65703</th>\n",
       "      <td>10637224</td>\n",
       "      <td>3125</td>\n",
       "      <td>NaN</td>\n",
       "      <td>WARRANT ARREST - BOSTON WARRANT (MUST BE SUPPL...</td>\n",
       "      <td>D4</td>\n",
       "      <td>270</td>\n",
       "      <td>0</td>\n",
       "      <td>2021-01-26 18:54:00</td>\n",
       "      <td>2021</td>\n",
       "      <td>1</td>\n",
       "      <td>Tuesday</td>\n",
       "      <td>18</td>\n",
       "      <td>NaN</td>\n",
       "      <td>NORTHAMPTON ST</td>\n",
       "      <td>42.333951</td>\n",
       "      <td>-71.075389</td>\n",
       "      <td>(42.3339512483938, -71.0753893882269)</td>\n",
       "    </tr>\n",
       "    <tr>\n",
       "      <th>65704</th>\n",
       "      <td>23844463</td>\n",
       "      <td>3115</td>\n",
       "      <td>NaN</td>\n",
       "      <td>INVESTIGATE PERSON</td>\n",
       "      <td>C6</td>\n",
       "      <td></td>\n",
       "      <td>0</td>\n",
       "      <td>2021-10-16 01:16:00</td>\n",
       "      <td>2021</td>\n",
       "      <td>10</td>\n",
       "      <td>Saturday</td>\n",
       "      <td>1</td>\n",
       "      <td>NaN</td>\n",
       "      <td>G ST &amp; E 8TH ST\\nBOSTON  MA 02127\\nUNITED STATES</td>\n",
       "      <td>42.331320</td>\n",
       "      <td>-71.044080</td>\n",
       "      <td>(42.3313200390092, -71.0440799616656)</td>\n",
       "    </tr>\n",
       "    <tr>\n",
       "      <th>65705</th>\n",
       "      <td>10584614</td>\n",
       "      <td>301</td>\n",
       "      <td>NaN</td>\n",
       "      <td>ROBBERY</td>\n",
       "      <td>B2</td>\n",
       "      <td></td>\n",
       "      <td>0</td>\n",
       "      <td>2021-11-16 17:49:00</td>\n",
       "      <td>2021</td>\n",
       "      <td>11</td>\n",
       "      <td>Tuesday</td>\n",
       "      <td>17</td>\n",
       "      <td>NaN</td>\n",
       "      <td>WASHINGTON STREET</td>\n",
       "      <td>0.000000</td>\n",
       "      <td>0.000000</td>\n",
       "      <td>(0, 0)</td>\n",
       "    </tr>\n",
       "  </tbody>\n",
       "</table>\n",
       "<p>65706 rows × 17 columns</p>\n",
       "</div>"
      ],
      "text/plain": [
       "      INCIDENT_NUMBER  OFFENSE_CODE  OFFENSE_CODE_GROUP  \\\n",
       "0           PLTEST005           520                 NaN   \n",
       "1           PLTEST003          3114                 NaN   \n",
       "2           PLTEST002          3114                 NaN   \n",
       "3           PLTEST001          3114                 NaN   \n",
       "4           312030979          3201                 NaN   \n",
       "...               ...           ...                 ...   \n",
       "65701       121000816          3304                 NaN   \n",
       "65702       120221042          3006                 NaN   \n",
       "65703        10637224          3125                 NaN   \n",
       "65704        23844463          3115                 NaN   \n",
       "65705        10584614           301                 NaN   \n",
       "\n",
       "                                     OFFENSE_DESCRIPTION DISTRICT  \\\n",
       "0                                 BURGLARY - RESIDENTIAL       B2   \n",
       "1                                   INVESTIGATE PROPERTY       B2   \n",
       "2                                   INVESTIGATE PROPERTY       B2   \n",
       "3                                   INVESTIGATE PROPERTY       B2   \n",
       "4                               PROPERTY - LOST/ MISSING      E13   \n",
       "...                                                  ...      ...   \n",
       "65701                        NOISY PARTY/RADIO-NO ARREST       E5   \n",
       "65702                      SICK/INJURED/MEDICAL - PERSON       E5   \n",
       "65703  WARRANT ARREST - BOSTON WARRANT (MUST BE SUPPL...       D4   \n",
       "65704                                 INVESTIGATE PERSON       C6   \n",
       "65705                                            ROBBERY       B2   \n",
       "\n",
       "      REPORTING_AREA  SHOOTING     OCCURRED_ON_DATE  YEAR  MONTH DAY_OF_WEEK  \\\n",
       "0                289         0  2021-10-13 00:00:00  2021     10   Wednesday   \n",
       "1                289         0  2021-05-12 00:00:00  2021      5   Wednesday   \n",
       "2                289         0  2021-05-12 00:00:00  2021      5   Wednesday   \n",
       "3                            0  2021-03-29 00:00:00  2021      3      Monday   \n",
       "4                465         0  2021-03-22 00:00:00  2021      3      Monday   \n",
       "...              ...       ...                  ...   ...    ...         ...   \n",
       "65701            675         0  2021-01-04 00:00:00  2021      1      Monday   \n",
       "65702            680         0  2021-04-02 10:45:00  2021      4      Friday   \n",
       "65703            270         0  2021-01-26 18:54:00  2021      1     Tuesday   \n",
       "65704                        0  2021-10-16 01:16:00  2021     10    Saturday   \n",
       "65705                        0  2021-11-16 17:49:00  2021     11     Tuesday   \n",
       "\n",
       "       HOUR  UCR_PART                                            STREET  \\\n",
       "0         0       NaN                                     SCHROEDER PLZ   \n",
       "1         0       NaN                                     SCHROEDER PLZ   \n",
       "2         0       NaN                                     SCHROEDER PLZ   \n",
       "3         0       NaN                                   SCHROEDER PLAZA   \n",
       "4         0       NaN                                     BLUE HILL AVE   \n",
       "...     ...       ...                                               ...   \n",
       "65701     0       NaN                                  BRADFIELD AVENUE   \n",
       "65702    10       NaN                                     WASHINGTON ST   \n",
       "65703    18       NaN                                    NORTHAMPTON ST   \n",
       "65704     1       NaN  G ST & E 8TH ST\\nBOSTON  MA 02127\\nUNITED STATES   \n",
       "65705    17       NaN                                 WASHINGTON STREET   \n",
       "\n",
       "             Lat       Long                               Location  \n",
       "0      42.333679 -71.091878  (42.3336792181085, -71.0918775461846)  \n",
       "1      42.333679 -71.091878  (42.3336792181085, -71.0918775461846)  \n",
       "2      42.333679 -71.091878  (42.3336792181085, -71.0918775461846)  \n",
       "3       0.000000   0.000000                                 (0, 0)  \n",
       "4      42.284826 -71.091374   (42.2848257658049, -71.091373689388)  \n",
       "...          ...        ...                                    ...  \n",
       "65701   0.000000   0.000000                                 (0, 0)  \n",
       "65702  42.283902 -71.130863   (42.2839024364831, -71.130862626435)  \n",
       "65703  42.333951 -71.075389  (42.3339512483938, -71.0753893882269)  \n",
       "65704  42.331320 -71.044080  (42.3313200390092, -71.0440799616656)  \n",
       "65705   0.000000   0.000000                                 (0, 0)  \n",
       "\n",
       "[65706 rows x 17 columns]"
      ]
     },
     "execution_count": 4,
     "metadata": {},
     "output_type": "execute_result"
    }
   ],
   "source": [
    "#reading downloaded dataset file\n",
    "df = pd.read_csv('Crime_incident_Dataset.csv')\n",
    "\n",
    "df"
   ]
  },
  {
   "cell_type": "markdown",
   "id": "e9984994",
   "metadata": {},
   "source": [
    "## Dataset Describtion"
   ]
  },
  {
   "cell_type": "code",
   "execution_count": 5,
   "id": "9c8e9011",
   "metadata": {
    "scrolled": true
   },
   "outputs": [
    {
     "name": "stdout",
     "output_type": "stream",
     "text": [
      "<class 'pandas.core.frame.DataFrame'>\n",
      "RangeIndex: 65706 entries, 0 to 65705\n",
      "Data columns (total 17 columns):\n",
      " #   Column               Non-Null Count  Dtype  \n",
      "---  ------               --------------  -----  \n",
      " 0   INCIDENT_NUMBER      65706 non-null  object \n",
      " 1   OFFENSE_CODE         65706 non-null  int64  \n",
      " 2   OFFENSE_CODE_GROUP   0 non-null      float64\n",
      " 3   OFFENSE_DESCRIPTION  65706 non-null  object \n",
      " 4   DISTRICT             64728 non-null  object \n",
      " 5   REPORTING_AREA       65706 non-null  object \n",
      " 6   SHOOTING             65706 non-null  int64  \n",
      " 7   OCCURRED_ON_DATE     65706 non-null  object \n",
      " 8   YEAR                 65706 non-null  int64  \n",
      " 9   MONTH                65706 non-null  int64  \n",
      " 10  DAY_OF_WEEK          65706 non-null  object \n",
      " 11  HOUR                 65706 non-null  int64  \n",
      " 12  UCR_PART             0 non-null      float64\n",
      " 13  STREET               65027 non-null  object \n",
      " 14  Lat                  65706 non-null  float64\n",
      " 15  Long                 65706 non-null  float64\n",
      " 16  Location             65706 non-null  object \n",
      "dtypes: float64(4), int64(5), object(8)\n",
      "memory usage: 8.5+ MB\n"
     ]
    }
   ],
   "source": [
    "df.info()"
   ]
  },
  {
   "cell_type": "code",
   "execution_count": 6,
   "id": "77399427",
   "metadata": {
    "scrolled": false
   },
   "outputs": [
    {
     "data": {
      "text/html": [
       "<div>\n",
       "<style scoped>\n",
       "    .dataframe tbody tr th:only-of-type {\n",
       "        vertical-align: middle;\n",
       "    }\n",
       "\n",
       "    .dataframe tbody tr th {\n",
       "        vertical-align: top;\n",
       "    }\n",
       "\n",
       "    .dataframe thead th {\n",
       "        text-align: right;\n",
       "    }\n",
       "</style>\n",
       "<table border=\"1\" class=\"dataframe\">\n",
       "  <thead>\n",
       "    <tr style=\"text-align: right;\">\n",
       "      <th></th>\n",
       "      <th>INCIDENT_NUMBER</th>\n",
       "      <th>OFFENSE_CODE</th>\n",
       "      <th>OFFENSE_CODE_GROUP</th>\n",
       "      <th>OFFENSE_DESCRIPTION</th>\n",
       "      <th>DISTRICT</th>\n",
       "      <th>REPORTING_AREA</th>\n",
       "      <th>SHOOTING</th>\n",
       "      <th>OCCURRED_ON_DATE</th>\n",
       "      <th>YEAR</th>\n",
       "      <th>MONTH</th>\n",
       "      <th>DAY_OF_WEEK</th>\n",
       "      <th>HOUR</th>\n",
       "      <th>UCR_PART</th>\n",
       "      <th>STREET</th>\n",
       "      <th>Lat</th>\n",
       "      <th>Long</th>\n",
       "      <th>Location</th>\n",
       "    </tr>\n",
       "  </thead>\n",
       "  <tbody>\n",
       "    <tr>\n",
       "      <th>count</th>\n",
       "      <td>65706</td>\n",
       "      <td>65706.000000</td>\n",
       "      <td>0.0</td>\n",
       "      <td>65706</td>\n",
       "      <td>64728</td>\n",
       "      <td>65706</td>\n",
       "      <td>65706.000000</td>\n",
       "      <td>65706</td>\n",
       "      <td>65706.0</td>\n",
       "      <td>65706.000000</td>\n",
       "      <td>65706</td>\n",
       "      <td>65706.000000</td>\n",
       "      <td>0.0</td>\n",
       "      <td>65027</td>\n",
       "      <td>65706.000000</td>\n",
       "      <td>65706.000000</td>\n",
       "      <td>65706</td>\n",
       "    </tr>\n",
       "    <tr>\n",
       "      <th>unique</th>\n",
       "      <td>65706</td>\n",
       "      <td>NaN</td>\n",
       "      <td>NaN</td>\n",
       "      <td>119</td>\n",
       "      <td>13</td>\n",
       "      <td>872</td>\n",
       "      <td>NaN</td>\n",
       "      <td>54930</td>\n",
       "      <td>NaN</td>\n",
       "      <td>NaN</td>\n",
       "      <td>7</td>\n",
       "      <td>NaN</td>\n",
       "      <td>NaN</td>\n",
       "      <td>7756</td>\n",
       "      <td>NaN</td>\n",
       "      <td>NaN</td>\n",
       "      <td>12173</td>\n",
       "    </tr>\n",
       "    <tr>\n",
       "      <th>top</th>\n",
       "      <td>212055458</td>\n",
       "      <td>NaN</td>\n",
       "      <td>NaN</td>\n",
       "      <td>INVESTIGATE PERSON</td>\n",
       "      <td>B2</td>\n",
       "      <td></td>\n",
       "      <td>NaN</td>\n",
       "      <td>2021-02-01 00:00:00</td>\n",
       "      <td>NaN</td>\n",
       "      <td>NaN</td>\n",
       "      <td>Friday</td>\n",
       "      <td>NaN</td>\n",
       "      <td>NaN</td>\n",
       "      <td>WASHINGTON ST</td>\n",
       "      <td>NaN</td>\n",
       "      <td>NaN</td>\n",
       "      <td>(0, 0)</td>\n",
       "    </tr>\n",
       "    <tr>\n",
       "      <th>freq</th>\n",
       "      <td>1</td>\n",
       "      <td>NaN</td>\n",
       "      <td>NaN</td>\n",
       "      <td>6249</td>\n",
       "      <td>9051</td>\n",
       "      <td>12387</td>\n",
       "      <td>NaN</td>\n",
       "      <td>20</td>\n",
       "      <td>NaN</td>\n",
       "      <td>NaN</td>\n",
       "      <td>9982</td>\n",
       "      <td>NaN</td>\n",
       "      <td>NaN</td>\n",
       "      <td>4781</td>\n",
       "      <td>NaN</td>\n",
       "      <td>NaN</td>\n",
       "      <td>2619</td>\n",
       "    </tr>\n",
       "    <tr>\n",
       "      <th>mean</th>\n",
       "      <td>NaN</td>\n",
       "      <td>2432.483411</td>\n",
       "      <td>NaN</td>\n",
       "      <td>NaN</td>\n",
       "      <td>NaN</td>\n",
       "      <td>NaN</td>\n",
       "      <td>0.013134</td>\n",
       "      <td>NaN</td>\n",
       "      <td>2021.0</td>\n",
       "      <td>6.213679</td>\n",
       "      <td>NaN</td>\n",
       "      <td>12.814111</td>\n",
       "      <td>NaN</td>\n",
       "      <td>NaN</td>\n",
       "      <td>40.635837</td>\n",
       "      <td>-68.250115</td>\n",
       "      <td>NaN</td>\n",
       "    </tr>\n",
       "    <tr>\n",
       "      <th>std</th>\n",
       "      <td>NaN</td>\n",
       "      <td>1182.735489</td>\n",
       "      <td>NaN</td>\n",
       "      <td>NaN</td>\n",
       "      <td>NaN</td>\n",
       "      <td>NaN</td>\n",
       "      <td>0.113851</td>\n",
       "      <td>NaN</td>\n",
       "      <td>0.0</td>\n",
       "      <td>3.071861</td>\n",
       "      <td>NaN</td>\n",
       "      <td>6.358711</td>\n",
       "      <td>NaN</td>\n",
       "      <td>NaN</td>\n",
       "      <td>8.279679</td>\n",
       "      <td>13.906106</td>\n",
       "      <td>NaN</td>\n",
       "    </tr>\n",
       "    <tr>\n",
       "      <th>min</th>\n",
       "      <td>NaN</td>\n",
       "      <td>111.000000</td>\n",
       "      <td>NaN</td>\n",
       "      <td>NaN</td>\n",
       "      <td>NaN</td>\n",
       "      <td>NaN</td>\n",
       "      <td>0.000000</td>\n",
       "      <td>NaN</td>\n",
       "      <td>2021.0</td>\n",
       "      <td>1.000000</td>\n",
       "      <td>NaN</td>\n",
       "      <td>0.000000</td>\n",
       "      <td>NaN</td>\n",
       "      <td>NaN</td>\n",
       "      <td>0.000000</td>\n",
       "      <td>-71.178674</td>\n",
       "      <td>NaN</td>\n",
       "    </tr>\n",
       "    <tr>\n",
       "      <th>25%</th>\n",
       "      <td>NaN</td>\n",
       "      <td>1106.000000</td>\n",
       "      <td>NaN</td>\n",
       "      <td>NaN</td>\n",
       "      <td>NaN</td>\n",
       "      <td>NaN</td>\n",
       "      <td>0.000000</td>\n",
       "      <td>NaN</td>\n",
       "      <td>2021.0</td>\n",
       "      <td>4.000000</td>\n",
       "      <td>NaN</td>\n",
       "      <td>9.000000</td>\n",
       "      <td>NaN</td>\n",
       "      <td>NaN</td>\n",
       "      <td>42.294434</td>\n",
       "      <td>-71.096375</td>\n",
       "      <td>NaN</td>\n",
       "    </tr>\n",
       "    <tr>\n",
       "      <th>50%</th>\n",
       "      <td>NaN</td>\n",
       "      <td>3005.000000</td>\n",
       "      <td>NaN</td>\n",
       "      <td>NaN</td>\n",
       "      <td>NaN</td>\n",
       "      <td>NaN</td>\n",
       "      <td>0.000000</td>\n",
       "      <td>NaN</td>\n",
       "      <td>2021.0</td>\n",
       "      <td>6.000000</td>\n",
       "      <td>NaN</td>\n",
       "      <td>14.000000</td>\n",
       "      <td>NaN</td>\n",
       "      <td>NaN</td>\n",
       "      <td>42.325935</td>\n",
       "      <td>-71.075845</td>\n",
       "      <td>NaN</td>\n",
       "    </tr>\n",
       "    <tr>\n",
       "      <th>75%</th>\n",
       "      <td>NaN</td>\n",
       "      <td>3207.000000</td>\n",
       "      <td>NaN</td>\n",
       "      <td>NaN</td>\n",
       "      <td>NaN</td>\n",
       "      <td>NaN</td>\n",
       "      <td>0.000000</td>\n",
       "      <td>NaN</td>\n",
       "      <td>2021.0</td>\n",
       "      <td>9.000000</td>\n",
       "      <td>NaN</td>\n",
       "      <td>18.000000</td>\n",
       "      <td>NaN</td>\n",
       "      <td>NaN</td>\n",
       "      <td>42.348406</td>\n",
       "      <td>-71.059709</td>\n",
       "      <td>NaN</td>\n",
       "    </tr>\n",
       "    <tr>\n",
       "      <th>max</th>\n",
       "      <td>NaN</td>\n",
       "      <td>3831.000000</td>\n",
       "      <td>NaN</td>\n",
       "      <td>NaN</td>\n",
       "      <td>NaN</td>\n",
       "      <td>NaN</td>\n",
       "      <td>1.000000</td>\n",
       "      <td>NaN</td>\n",
       "      <td>2021.0</td>\n",
       "      <td>11.000000</td>\n",
       "      <td>NaN</td>\n",
       "      <td>23.000000</td>\n",
       "      <td>NaN</td>\n",
       "      <td>NaN</td>\n",
       "      <td>42.395042</td>\n",
       "      <td>0.000000</td>\n",
       "      <td>NaN</td>\n",
       "    </tr>\n",
       "  </tbody>\n",
       "</table>\n",
       "</div>"
      ],
      "text/plain": [
       "       INCIDENT_NUMBER  OFFENSE_CODE  OFFENSE_CODE_GROUP OFFENSE_DESCRIPTION  \\\n",
       "count            65706  65706.000000                 0.0               65706   \n",
       "unique           65706           NaN                 NaN                 119   \n",
       "top          212055458           NaN                 NaN  INVESTIGATE PERSON   \n",
       "freq                 1           NaN                 NaN                6249   \n",
       "mean               NaN   2432.483411                 NaN                 NaN   \n",
       "std                NaN   1182.735489                 NaN                 NaN   \n",
       "min                NaN    111.000000                 NaN                 NaN   \n",
       "25%                NaN   1106.000000                 NaN                 NaN   \n",
       "50%                NaN   3005.000000                 NaN                 NaN   \n",
       "75%                NaN   3207.000000                 NaN                 NaN   \n",
       "max                NaN   3831.000000                 NaN                 NaN   \n",
       "\n",
       "       DISTRICT REPORTING_AREA      SHOOTING     OCCURRED_ON_DATE     YEAR  \\\n",
       "count     64728          65706  65706.000000                65706  65706.0   \n",
       "unique       13            872           NaN                54930      NaN   \n",
       "top          B2                          NaN  2021-02-01 00:00:00      NaN   \n",
       "freq       9051          12387           NaN                   20      NaN   \n",
       "mean        NaN            NaN      0.013134                  NaN   2021.0   \n",
       "std         NaN            NaN      0.113851                  NaN      0.0   \n",
       "min         NaN            NaN      0.000000                  NaN   2021.0   \n",
       "25%         NaN            NaN      0.000000                  NaN   2021.0   \n",
       "50%         NaN            NaN      0.000000                  NaN   2021.0   \n",
       "75%         NaN            NaN      0.000000                  NaN   2021.0   \n",
       "max         NaN            NaN      1.000000                  NaN   2021.0   \n",
       "\n",
       "               MONTH DAY_OF_WEEK          HOUR  UCR_PART         STREET  \\\n",
       "count   65706.000000       65706  65706.000000       0.0          65027   \n",
       "unique           NaN           7           NaN       NaN           7756   \n",
       "top              NaN      Friday           NaN       NaN  WASHINGTON ST   \n",
       "freq             NaN        9982           NaN       NaN           4781   \n",
       "mean        6.213679         NaN     12.814111       NaN            NaN   \n",
       "std         3.071861         NaN      6.358711       NaN            NaN   \n",
       "min         1.000000         NaN      0.000000       NaN            NaN   \n",
       "25%         4.000000         NaN      9.000000       NaN            NaN   \n",
       "50%         6.000000         NaN     14.000000       NaN            NaN   \n",
       "75%         9.000000         NaN     18.000000       NaN            NaN   \n",
       "max        11.000000         NaN     23.000000       NaN            NaN   \n",
       "\n",
       "                 Lat          Long Location  \n",
       "count   65706.000000  65706.000000    65706  \n",
       "unique           NaN           NaN    12173  \n",
       "top              NaN           NaN   (0, 0)  \n",
       "freq             NaN           NaN     2619  \n",
       "mean       40.635837    -68.250115      NaN  \n",
       "std         8.279679     13.906106      NaN  \n",
       "min         0.000000    -71.178674      NaN  \n",
       "25%        42.294434    -71.096375      NaN  \n",
       "50%        42.325935    -71.075845      NaN  \n",
       "75%        42.348406    -71.059709      NaN  \n",
       "max        42.395042      0.000000      NaN  "
      ]
     },
     "execution_count": 6,
     "metadata": {},
     "output_type": "execute_result"
    }
   ],
   "source": [
    "df.describe(include = 'all')"
   ]
  },
  {
   "cell_type": "code",
   "execution_count": 7,
   "id": "2afe618b",
   "metadata": {},
   "outputs": [
    {
     "data": {
      "text/plain": [
       "(65706, 17)"
      ]
     },
     "execution_count": 7,
     "metadata": {},
     "output_type": "execute_result"
    }
   ],
   "source": [
    "df.shape"
   ]
  },
  {
   "cell_type": "code",
   "execution_count": 8,
   "id": "71355829",
   "metadata": {
    "scrolled": false
   },
   "outputs": [
    {
     "data": {
      "text/plain": [
       "INCIDENT_NUMBER            0\n",
       "OFFENSE_CODE               0\n",
       "OFFENSE_CODE_GROUP     65706\n",
       "OFFENSE_DESCRIPTION        0\n",
       "DISTRICT                 978\n",
       "REPORTING_AREA             0\n",
       "SHOOTING                   0\n",
       "OCCURRED_ON_DATE           0\n",
       "YEAR                       0\n",
       "MONTH                      0\n",
       "DAY_OF_WEEK                0\n",
       "HOUR                       0\n",
       "UCR_PART               65706\n",
       "STREET                   679\n",
       "Lat                        0\n",
       "Long                       0\n",
       "Location                   0\n",
       "dtype: int64"
      ]
     },
     "execution_count": 8,
     "metadata": {},
     "output_type": "execute_result"
    }
   ],
   "source": [
    "df.isnull().sum()"
   ]
  },
  {
   "cell_type": "code",
   "execution_count": 9,
   "id": "d902d728",
   "metadata": {
    "scrolled": true
   },
   "outputs": [
    {
     "data": {
      "text/plain": [
       "INCIDENT_NUMBER            0\n",
       "OFFENSE_CODE               0\n",
       "OFFENSE_CODE_GROUP     65706\n",
       "OFFENSE_DESCRIPTION        0\n",
       "DISTRICT                 978\n",
       "REPORTING_AREA             0\n",
       "SHOOTING                   0\n",
       "OCCURRED_ON_DATE           0\n",
       "YEAR                       0\n",
       "MONTH                      0\n",
       "DAY_OF_WEEK                0\n",
       "HOUR                       0\n",
       "UCR_PART               65706\n",
       "STREET                   679\n",
       "Lat                        0\n",
       "Long                       0\n",
       "Location                   0\n",
       "dtype: int64"
      ]
     },
     "execution_count": 9,
     "metadata": {},
     "output_type": "execute_result"
    }
   ],
   "source": [
    "df.isna().sum()"
   ]
  },
  {
   "cell_type": "code",
   "execution_count": 10,
   "id": "056269f6",
   "metadata": {},
   "outputs": [
    {
     "name": "stdout",
     "output_type": "stream",
     "text": [
      "\n",
      " Unique values of column: - INCIDENT_NUMBER\n",
      "['PLTEST005' 'PLTEST003' 'PLTEST002' ... 10637224 23844463 10584614]\n",
      "\n",
      " Unique values of column: - OFFENSE_CODE\n",
      "[ 520 3114 3201 3301 3801 3802 3115 3001 1102 1402  801 3005  706 1300\n",
      " 3831 2647 2905 2907  641  724 3006  301  540 1501  619 2610  613 3501\n",
      " 2619  531 2632 3820  614  617 2670 3803 1810 3007 3110  423  615 3108\n",
      " 3830 1106 2613 2648 1109 3502 3805 3207  735 3410 3503 1107 3126 3205\n",
      " 1108 3018 2101 2403 1832  616 1415  736 1001  900 3811 3304 3112 1825\n",
      "  612 3029 3111 2662 3810 2914  727  611 3821 2604 2612  111 3402 3807\n",
      " 3625 3119 2646 2401 1201 3106 1304 2102 3130 3170 1602 3202 3116 3008\n",
      " 2660 2657 3122 2616 2617  121 3125 2622 3004 2608 3203 2204 1601 2618\n",
      " 2642  990 3403  618 3123 2628 3305]\n",
      "\n",
      " Unique values of column: - OFFENSE_CODE_GROUP\n",
      "[nan]\n",
      "\n",
      " Unique values of column: - OFFENSE_DESCRIPTION\n",
      "['BURGLARY - RESIDENTIAL' 'INVESTIGATE PROPERTY'\n",
      " 'PROPERTY - LOST/ MISSING' 'VERBAL DISPUTE' 'M/V ACCIDENT - OTHER'\n",
      " 'M/V ACCIDENT - PROPERTY DAMAGE' 'INVESTIGATE PERSON'\n",
      " 'DEATH INVESTIGATION' 'FRAUD - FALSE PRETENSE / SCHEME' 'VANDALISM'\n",
      " 'ASSAULT - SIMPLE' 'SICK ASSIST' 'AUTO THEFT - MOTORCYCLE / SCOOTER'\n",
      " 'STOLEN PROPERTY - BUYING / RECEIVING / POSSESSING'\n",
      " 'M/V - LEAVING SCENE - PROPERTY DAMAGE' 'THREATS TO DO BODILY HARM'\n",
      " 'VAL - VIOLATION OF AUTO LAW' 'VAL - OPERATING AFTER REV/SUSP.'\n",
      " 'BREAKING AND ENTERING (B&E) MOTOR VEHICLE' 'AUTO THEFT'\n",
      " 'SICK/INJURED/MEDICAL - PERSON' 'ROBBERY' 'BURGLARY - COMMERICAL'\n",
      " 'WEAPON VIOLATION - CARRY/ POSSESSING/ SALE/ TRAFFICKING/ OTHER'\n",
      " 'LARCENY ALL OTHERS' 'TRESPASSING' 'LARCENY SHOPLIFTING' 'MISSING PERSON'\n",
      " 'FUGITIVE FROM JUSTICE'\n",
      " 'BREAKING AND ENTERING (B&E) MOTOR VEHICLE (NO PROPERTY STOLEN)'\n",
      " 'EVADING FARE' 'M/V ACCIDENT - INVOLVING PEDESTRIAN - INJURY'\n",
      " 'LARCENY THEFT FROM MV - NON-ACCESSORY' 'LARCENY THEFT FROM BUILDING'\n",
      " 'HARASSMENT/ CRIMINAL HARASSMENT' 'M/V ACCIDENT - PERSONAL INJURY'\n",
      " 'DRUGS - POSSESSION/ SALE/ MANUFACTURING/ USE' 'SUDDEN DEATH'\n",
      " 'SERVICE TO OTHER AGENCY' 'ASSAULT - AGGRAVATED'\n",
      " 'LARCENY THEFT OF MV PARTS & ACCESSORIES' 'FIRE REPORT'\n",
      " 'M/V - LEAVING SCENE - PERSONAL INJURY' 'FRAUD - CREDIT CARD / ATM FRAUD'\n",
      " 'ANIMAL ABUSE' 'BOMB THREAT' 'FRAUD - WIRE' 'MISSING PERSON - LOCATED'\n",
      " 'M/V ACCIDENT - POLICE VEHICLE' 'PROPERTY - FOUND'\n",
      " 'RECOVERED - MV RECOVERED IN BOSTON (STOLEN OUTSIDE BOSTON)'\n",
      " 'TOWED MOTOR VEHICLE' 'MISSING PERSON - NOT REPORTED - LOCATED'\n",
      " 'FRAUD - IMPERSONATION' 'WARRANT ARREST - OUTSIDE OF BOSTON WARRANT'\n",
      " 'M/V PLATES - LOST' 'FRAUD - WELFARE' 'SICK/INJURED/MEDICAL - POLICE'\n",
      " 'OPERATING UNDER THE INFLUENCE (OUI) ALCOHOL'\n",
      " 'DISTURBING THE PEACE/ DISORDERLY CONDUCT/ GATHERING CAUSING ANNOYANCE/ NOISY PAR'\n",
      " 'SICK ASSIST - DRUG RELATED ILLNESS' 'LARCENY THEFT OF BICYCLE'\n",
      " 'GRAFFITI'\n",
      " 'RECOVERED - MV RECOVERED IN BOSTON (STOLEN IN BOSTON) MUST BE SUPPLEMENTAL'\n",
      " 'FORGERY / COUNTERFEITING' 'ARSON'\n",
      " 'M/V ACCIDENT - INVOLVING BICYCLE - NO INJURY'\n",
      " 'NOISY PARTY/RADIO-NO ARREST' 'LANDLORD - TENANT'\n",
      " 'DRUGS - POSSESSION OF DRUG PARAPHANALIA'\n",
      " 'LARCENY PURSE SNATCH - NO FORCE' 'PRISONER - SUICIDE / SUICIDE ATTEMPT'\n",
      " 'LICENSE PREMISE VIOLATION' 'BALLISTICS EVIDENCE/FOUND'\n",
      " 'M/V ACCIDENT - INVOLVING BICYCLE - INJURY'\n",
      " 'VAL - OPERATING W/O AUTHORIZATION LAWFUL'\n",
      " 'AUTO THEFT - LEASED/RENTED VEHICLE' 'LARCENY PICK-POCKET'\n",
      " 'M/V ACCIDENT - INVOLVING PEDESTRIAN - NO INJURY'\n",
      " 'EXTORTION OR BLACKMAIL' 'FIRE REPORT/ALARM - FALSE'\n",
      " 'MURDER, NON-NEGLIGIENT MANSLAUGHTER'\n",
      " 'ANIMAL INCIDENTS (DOG BITES, LOST DOG, ETC)'\n",
      " 'M/V ACCIDENT - OTHER CITY VEHICLE' 'DANGEROUS OR HAZARDOUS CONDITION'\n",
      " 'FIREARM/WEAPON - FOUND OR CONFISCATED'\n",
      " 'LIQUOR/ALCOHOL - DRINKING IN PUBLIC' 'AFFRAY' 'EMBEZZLEMENT'\n",
      " 'PROPERTY - ACCIDENTAL DAMAGE' 'PROPERTY - STOLEN THEN RECOVERED'\n",
      " 'OPERATING UNDER THE INFLUENCE (OUI) DRUGS' 'SEARCH WARRANT'\n",
      " 'INTIMIDATING WITNESS' 'PROSTITUTION - SOLICITING'\n",
      " 'PROPERTY - LOST THEN LOCATED' 'HARBOR INCIDENT / VIOLATION'\n",
      " 'SUICIDE / SUICIDE ATTEMPT' 'OTHER OFFENSE' 'VIOLATION - CITY ORDINANCE'\n",
      " 'AIRCRAFT INCIDENTS' 'POSSESSION OF BURGLARIOUS TOOLS'\n",
      " 'CONSPIRACY EXCEPT DRUG LAW' 'MANSLAUGHTER - VEHICLE - NEGLIGENCE'\n",
      " 'WARRANT ARREST - BOSTON WARRANT (MUST BE SUPPLEMENTAL)'\n",
      " 'KIDNAPPING/CUSTODIAL KIDNAPPING/ ABDUCTION'\n",
      " 'INJURY BICYCLE NO M/V INVOLVED'\n",
      " 'CHILD REQUIRING ASSISTANCE (FOMERLY CHINS)' 'FIREARM/WEAPON - LOST'\n",
      " 'LIQUOR LAW VIOLATION' 'PROSTITUTION' 'EXPLOSIVES - POSSESSION OR USE'\n",
      " 'TRUANCY / RUNAWAY' 'Justifiable Homicide'\n",
      " 'PROTECTIVE CUSTODY / SAFEKEEPING' 'LARCENY THEFT FROM COIN-OP MACHINE'\n",
      " 'EXPLOSIVES - TURNED IN OR FOUND' 'OBSCENE PHONE CALLS' 'DRUNKENNESS']\n",
      "\n",
      " Unique values of column: - DISTRICT\n",
      "['B2' 'E13' 'C11' 'A1' 'C6' 'D4' 'A7' 'E5' 'E18' 'D14' 'B3' 'A15' nan\n",
      " 'External']\n",
      "\n",
      " Unique values of column: - REPORTING_AREA\n",
      "['289' ' ' '465' '347' '204' '285' '68' '35' '200' '691' '183' '520' '784'\n",
      " '26' '138' '355' '574' '273' '320' '624' '20' '282' '77' '167' '810'\n",
      " '778' '527' '421' '577' '174' '350' '407' '587' '288' '135' '334' '785'\n",
      " '645' '83' '206' '603' '430' '377' '48' '428' '417' '936' '493' '262'\n",
      " '441' '44' '484' '814' '186' '326' '420' '749' '86' '585' '944' '73'\n",
      " '307' '594' '586' '907' '111' '61' '724' '774' '652' '55' '112' '550'\n",
      " '516' '367' '788' '296' '447' '64' '177' '122' '28' '129' '470' '75'\n",
      " '824' '406' '356' '232' '41' '426' '72' '341' '336' '786' '450' '822'\n",
      " '802' '522' '328' '790' '911' '213' '795' '397' '124' '612' '510' '455'\n",
      " '27' '143' '639' '243' '10' '171' '165' '317' '454' '939' '435' '306'\n",
      " '490' '472' '29' '170' '254' '389' '446' '457' '598' '460' '67' '508'\n",
      " '272' '463' '771' '113' '304' '79' '535' '303' '752' '735' '492' '794'\n",
      " '34' '800' '801' '900' '777' '352' '451' '467' '563' '710' '268' '125'\n",
      " '63' '93' '329' '901' '344' '295' '945' '783' '488' '789' '779' '345'\n",
      " '438' '66' '118' '379' '456' '271' '409' '618' '137' '680' '501' '434'\n",
      " '311' '207' '584' '613' '337' '610' '692' '480' '247' '393' '191' '388'\n",
      " '175' '418' '429' '78' '646' '494' '764' '92' '556' '327' '619' '808'\n",
      " '746' '338' '602' '17' '281' '280' '439' '168' '469' '321' '823' '261'\n",
      " '117' '803' '387' '239' '908' '333' '581' '796' '146' '792' '804' '466'\n",
      " '816' '349' '257' '319' '302' '325' '134' '719' '424' '96' '561' '548'\n",
      " '432' '912' '360' '276' '815' '230' '121' '453' '12' '103' '105' '119'\n",
      " '422' '315' '566' '98' '181' '69' '318' '611' '158' '499' '444' '578'\n",
      " '706' '56' '267' '87' '234' '431' '166' '462' '791' '149' '622' '24'\n",
      " '411' '464' '402' '943' '155' '131' '150' '23' '7' '770' '781' '797'\n",
      " '793' '475' '263' '631' '182' '627' '408' '906' '308' '32' '19' '533'\n",
      " '300' '395' '489' '621' '214' '172' '156' '537' '437' '498' '394' '768'\n",
      " '246' '458' '572' '772' '655' '403' '94' '626' '259' '720' '372' '938'\n",
      " '151' '8' '169' '244' '90' '179' '503' '766' '373' '521' '141' '442'\n",
      " '676' '102' '25' '635' '120' '297' '76' '620' '518' '513' '312' '359'\n",
      " '11' '364' '225' '30' '957' '474' '216' '681' '351' '358' '305' '589'\n",
      " '316' '951' '201' '363' '657' '242' '427' '241' '115' '104' '31' '448'\n",
      " '773' '807' '776' '128' '340' '335' '682' '591' '354' '188' '123' '751'\n",
      " '220' '913' '820' '476' '759' '348' '50' '279' '617' '45' '543' '1' '133'\n",
      " '284' '53' '579' '116' '536' '258' '806' '89' '517' '405' '362' '674'\n",
      " '775' '194' '39' '330' '189' '215' '223' '702' '747' '152' '157' '203'\n",
      " '178' '396' '753' '524' '481' '562' '40' '309' '370' '704' '479' '541'\n",
      " '661' '187' '760' '332' '145' '221' '748' '313' '685' '914' '903' '130'\n",
      " '799' '782' '299' '565' '601' '425' '80' '265' '623' '99' '714' '659'\n",
      " '22' '212' '224' '342' '416' '468' '595' '713' '941' '605' '59' '942'\n",
      " '384' '160' '287' '519' '507' '126' '58' '15' '231' '532' '754' '948'\n",
      " '495' '445' '741' '767' '787' '582' '21' '193' '695' '101' '85' '757'\n",
      " '38' '485' '656' '937' '211' '54' '240' '459' '5' '423' '644' '361' '70'\n",
      " '649' '915' '275' '404' '184' '264' '634' '805' '140' '629' '910' '226'\n",
      " '478' '185' '144' '237' '918' '496' '569' '173' '142' '607' '564' '538'\n",
      " '946' '378' '544' '529' '217' '162' '222' '641' '343' '292' '245' '255'\n",
      " '738' '482' '758' '670' '84' '270' '959' '542' '593' '916' '919' '560'\n",
      " '161' '14' '597' '2' '614' '205' '375' '298' '761' '625' '390' '398'\n",
      " '651' '353' '642' '235' '401' '755' '930' '637' '530' '376' '323' '570'\n",
      " '552' '628' '283' '248' '449' '382' '60' '486' '210' '176' '694' '512'\n",
      " '632' '483' '514' '369' '95' '357' '291' '286' '531' '583' '473' '573'\n",
      " '817' '238' '588' '314' '763' '385' '88' '630' '290' '229' '43' '730'\n",
      " '798' '664' '707' '132' '163' '331' '274' '419' '924' '732' '606' '604'\n",
      " '108' '487' '729' '383' '202' '962' '49' '153' '452' '608' '745' '249'\n",
      " '715' '410' '723' '540' '199' '365' '228' '575' '705' '236' '546' '391'\n",
      " '905' '136' '436' '750' '97' '722' '233' '812' '346' '615' '811' '920'\n",
      " '687' '904' '557' '415' '461' '523' '293' '16' '253' '696' '81' '106'\n",
      " '497' '600' '940' '251' '825' '192' '100' '139' '65' '366' '638' '266'\n",
      " '902' '721' '33' '677' '640' '36' '71' '525' '765' '553' '954' '260'\n",
      " '196' '324' '82' '3' '576' '708' '526' '159' '127' '62' '716' '509' '559'\n",
      " '195' '381' '147' '780' '322' '57' '756' '809' '571' '256' '164' '433'\n",
      " '821' '227' '909' '727' '91' '491' '180' '392' '74' '502' '252' '648'\n",
      " '545' '504' '736' '819' '558' '712' '921' '949' '400' '443' '47' '667'\n",
      " '46' '568' '818' '668' '339' '547' '414' '769' '109' '923' '731' '555'\n",
      " '616' '42' '726' '294' '539' '679' '700' '18' '4' '647' '219' '567' '927'\n",
      " '114' '6' '734' '711' '471' '728' '301' '599' '636' '380' '654' '762'\n",
      " '596' '673' '413' '368' '534' '515' '686' '658' '935' '933' '662' '110'\n",
      " '13' '609' '725' '500' '703' '148' '743' '549' '925' '528' '675' '960'\n",
      " '717' '733' '440' '310' '506' '52' '107' '953' '709' '154' '958' '684'\n",
      " '269' '374' '689' '643' '813' '650' '590' '956' '697' '698' '37' '209'\n",
      " '277' '197' '917' '551' '278' '718' '683' '693' '250' '701' '412' '660'\n",
      " '399' '9' '672' '505' '477' '208' '51' '952' '922' '511' '932' '740'\n",
      " '690' '744' '592' '742' '699' '665' '688' '386' '663' '678' '739' '633'\n",
      " '737' '554' '671']\n",
      "\n",
      " Unique values of column: - SHOOTING\n",
      "[0 1]\n",
      "\n",
      " Unique values of column: - OCCURRED_ON_DATE\n",
      "['2021-10-13 00:00:00' '2021-05-12 00:00:00' '2021-03-29 00:00:00' ...\n",
      " '2021-01-26 18:54:00' '2021-10-16 01:16:00' '2021-11-16 17:49:00']\n",
      "\n",
      " Unique values of column: - YEAR\n",
      "[2021]\n",
      "\n",
      " Unique values of column: - MONTH\n",
      "[10  5  3  7 11  2  8  4  6  9  1]\n",
      "\n",
      " Unique values of column: - DAY_OF_WEEK\n",
      "['Wednesday' 'Monday' 'Tuesday' 'Friday' 'Saturday' 'Sunday' 'Thursday']\n",
      "\n",
      " Unique values of column: - HOUR\n",
      "[ 0 20 13  6 10 16  8 12  9 23  2 19 18 15 11  3  1 21 22 14 17  7  5  4]\n",
      "\n",
      " Unique values of column: - UCR_PART\n",
      "[nan]\n",
      "\n",
      " Unique values of column: - STREET\n",
      "['SCHROEDER PLZ' 'SCHROEDER PLAZA' 'BLUE HILL AVE' ... 'WESLEYAN PLACE'\n",
      " 'BRADFIELD AVENUE' 'G ST & E 8TH ST\\nBOSTON  MA 02127\\nUNITED STATES']\n",
      "\n",
      " Unique values of column: - Lat\n",
      "[42.33367922  0.         42.28482577 ... 42.37102497 42.28879992\n",
      " 42.33132004]\n",
      "\n",
      " Unique values of column: - Long\n",
      "[-71.09187755   0.         -71.09137369 ... -71.04094299 -71.1337079\n",
      " -71.04407996]\n",
      "\n",
      " Unique values of column: - Location\n",
      "['(42.3336792181085, -71.0918775461846)' '(0, 0)'\n",
      " '(42.2848257658049, -71.091373689388)' ...\n",
      " '(42.3710249725173, -71.0409429897318)'\n",
      " '(42.2887999161001, -71.1337079039798)'\n",
      " '(42.3313200390092, -71.0440799616656)']\n"
     ]
    }
   ],
   "source": [
    "for col in df:\n",
    "    print ('\\n Unique values of column: - %s'%col)\n",
    "    print (df[col].unique())"
   ]
  },
  {
   "cell_type": "markdown",
   "id": "57b35841",
   "metadata": {},
   "source": [
    "## Data Visualization"
   ]
  },
  {
   "cell_type": "code",
   "execution_count": 11,
   "id": "4665f658",
   "metadata": {},
   "outputs": [
    {
     "data": {
      "image/png": "[encoded data removed]",
      "text/plain": [
       "<Figure size 432x288 with 1 Axes>"
      ]
     },
     "metadata": {
      "needs_background": "light"
     },
     "output_type": "display_data"
    }
   ],
   "source": [
    "a=sns.boxplot(x=df['MONTH'])"
   ]
  },
  {
   "cell_type": "markdown",
   "id": "fdaa6500",
   "metadata": {},
   "source": [
    "Boxplot of the crime incidents based on the month represents that the most the crime incidents are happened between 3 to 8 month."
   ]
  },
  {
   "cell_type": "code",
   "execution_count": 12,
   "id": "786e993e",
   "metadata": {
    "scrolled": true
   },
   "outputs": [
    {
     "data": {
      "text/plain": [
       "Text(0.5, 0, 'Type of Offense')"
      ]
     },
     "execution_count": 12,
     "metadata": {},
     "output_type": "execute_result"
    },
    {
     "data": {
      "image/png": "[encoded data removed]",
      "text/plain": [
       "<Figure size 720x360 with 1 Axes>"
      ]
     },
     "metadata": {
      "needs_background": "light"
     },
     "output_type": "display_data"
    }
   ],
   "source": [
    "df['OFFENSE_CODE'].value_counts().nlargest(50).plot(kind='bar',figsize=(10,5))\n",
    "plt.title('Frequency of Offense Code')\n",
    "plt.ylabel('Number of Offense')\n",
    "plt.xlabel('Type of Offense')"
   ]
  },
  {
   "cell_type": "markdown",
   "id": "3d50f5f6",
   "metadata": {},
   "source": [
    "Above plot represents the types of offense and number of time it occured which shows that the 3115 is most recorded offense follwed by 3005 and 3831 which directly answer the bussiness question but we will also try to look at the same after cleaning the dataset"
   ]
  },
  {
   "cell_type": "code",
   "execution_count": 13,
   "id": "5106c2ec",
   "metadata": {},
   "outputs": [
    {
     "data": {
      "image/png": "[encoded data removed]",
      "text/plain": [
       "<Figure size 432x288 with 2 Axes>"
      ]
     },
     "metadata": {
      "needs_background": "light"
     },
     "output_type": "display_data"
    }
   ],
   "source": [
    "corr_df = df.corr()\n",
    "ax = sns.heatmap(corr_df,vmin=-1,vmax=1,center=0,cmap=sns.diverging_palette(10, 110, n=100),square=True)\n",
    "plt.show()"
   ]
  },
  {
   "cell_type": "markdown",
   "id": "24b0d73e",
   "metadata": {},
   "source": [
    "It shows the correlation between each columns of the dataset and how they are interelated."
   ]
  },
  {
   "cell_type": "code",
   "execution_count": 14,
   "id": "eddb2b08",
   "metadata": {},
   "outputs": [
    {
     "data": {
      "image/png": "[encoded data removed]",
      "text/plain": [
       "<Figure size 612x504 with 1 Axes>"
      ]
     },
     "metadata": {
      "needs_background": "light"
     },
     "output_type": "display_data"
    }
   ],
   "source": [
    "df['DISTRICT'].value_counts().plot(kind='bar', title=\"Number of crime in each District\", figsize=(8.5, 7))\n",
    "ax.set_xlabel(\"District\")\n",
    "ax.set_ylabel(\"Number of Crimes\")   \n",
    "plt.show()\n"
   ]
  },
  {
   "cell_type": "markdown",
   "id": "f4f6e7fe",
   "metadata": {},
   "source": [
    "Above plot shows the crime reported in the District and we can say that B2, D4 are unsafe district based on the crime records.This will help us to answer the bussiness question but we will also try to look at the same after cleaning the dataset"
   ]
  },
  {
   "cell_type": "code",
   "execution_count": 15,
   "id": "ae2eb295",
   "metadata": {},
   "outputs": [
    {
     "data": {
      "text/plain": [
       "<AxesSubplot:ylabel='MONTH'>"
      ]
     },
     "execution_count": 15,
     "metadata": {},
     "output_type": "execute_result"
    },
    {
     "data": {
      "image/png": "[encoded data removed]",
      "text/plain": [
       "<Figure size 432x288 with 1 Axes>"
      ]
     },
     "metadata": {
      "needs_background": "light"
     },
     "output_type": "display_data"
    }
   ],
   "source": [
    "monthlyGrp = df.groupby(df['MONTH'])['INCIDENT_NUMBER'].agg('count')\n",
    "monthlyGrp.plot(kind='barh')"
   ]
  },
  {
   "cell_type": "markdown",
   "id": "48ac3d53",
   "metadata": {},
   "source": [
    "Bar plot is able to show the crime incident count in each month and we can say 4 to 8 months are most vulnerable."
   ]
  },
  {
   "cell_type": "code",
   "execution_count": 16,
   "id": "749ac79d",
   "metadata": {
    "scrolled": true
   },
   "outputs": [
    {
     "data": {
      "text/plain": [
       "<AxesSubplot:xlabel='MONTH'>"
      ]
     },
     "execution_count": 16,
     "metadata": {},
     "output_type": "execute_result"
    },
    {
     "data": {
      "image/png": "[encoded data removed]",
      "text/plain": [
       "<Figure size 432x288 with 1 Axes>"
      ]
     },
     "metadata": {
      "needs_background": "light"
     },
     "output_type": "display_data"
    }
   ],
   "source": [
    "monthlyGrp.plot()"
   ]
  },
  {
   "cell_type": "markdown",
   "id": "0a0e15dc",
   "metadata": {},
   "source": [
    "## Data Cleaning"
   ]
  },
  {
   "cell_type": "code",
   "execution_count": 17,
   "id": "d09dcb49",
   "metadata": {
    "scrolled": true
   },
   "outputs": [
    {
     "name": "stdout",
     "output_type": "stream",
     "text": [
      "<class 'pandas.core.frame.DataFrame'>\n",
      "RangeIndex: 65706 entries, 0 to 65705\n",
      "Data columns (total 17 columns):\n",
      " #   Column               Non-Null Count  Dtype  \n",
      "---  ------               --------------  -----  \n",
      " 0   INCIDENT_NUMBER      65706 non-null  object \n",
      " 1   OFFENSE_CODE         65706 non-null  int64  \n",
      " 2   OFFENSE_CODE_GROUP   0 non-null      float64\n",
      " 3   OFFENSE_DESCRIPTION  65706 non-null  object \n",
      " 4   DISTRICT             64728 non-null  object \n",
      " 5   REPORTING_AREA       65706 non-null  object \n",
      " 6   SHOOTING             65706 non-null  int64  \n",
      " 7   OCCURRED_ON_DATE     65706 non-null  object \n",
      " 8   YEAR                 65706 non-null  int64  \n",
      " 9   MONTH                65706 non-null  int64  \n",
      " 10  DAY_OF_WEEK          65706 non-null  object \n",
      " 11  HOUR                 65706 non-null  int64  \n",
      " 12  UCR_PART             0 non-null      float64\n",
      " 13  STREET               65027 non-null  object \n",
      " 14  Lat                  65706 non-null  float64\n",
      " 15  Long                 65706 non-null  float64\n",
      " 16  Location             65706 non-null  object \n",
      "dtypes: float64(4), int64(5), object(8)\n",
      "memory usage: 8.5+ MB\n"
     ]
    }
   ],
   "source": [
    "df.info()"
   ]
  },
  {
   "cell_type": "code",
   "execution_count": 18,
   "id": "4ba1afae",
   "metadata": {},
   "outputs": [],
   "source": [
    "#Droppping Null columns and unused column\n",
    "df = df.drop(['OFFENSE_CODE_GROUP','UCR_PART','INCIDENT_NUMBER','OCCURRED_ON_DATE','OFFENSE_DESCRIPTION','Location'], axis = 1)"
   ]
  },
  {
   "cell_type": "markdown",
   "id": "26c0345a",
   "metadata": {},
   "source": [
    "In Aboove steps, we have dropped the columns which contains the no data and other columns has no importanted data as it contains the unique of incidents and location which not imported for modeling as we have latitude and longitude in seperate columns as well."
   ]
  },
  {
   "cell_type": "code",
   "execution_count": 19,
   "id": "0eec72a3",
   "metadata": {
    "scrolled": true
   },
   "outputs": [
    {
     "name": "stdout",
     "output_type": "stream",
     "text": [
      "\n",
      " Unique values of column: - OFFENSE_CODE\n",
      "[ 520 3114 3201 3301 3801 3802 3115 3001 1102 1402  801 3005  706 1300\n",
      " 3831 2647 2905 2907  641  724 3006  301  540 1501  619 2610  613 3501\n",
      " 2619  531 2632 3820  614  617 2670 3803 1810 3007 3110  423  615 3108\n",
      " 3830 1106 2613 2648 1109 3502 3805 3207  735 3410 3503 1107 3126 3205\n",
      " 1108 3018 2101 2403 1832  616 1415  736 1001  900 3811 3304 3112 1825\n",
      "  612 3029 3111 2662 3810 2914  727  611 3821 2604 2612  111 3402 3807\n",
      " 3625 3119 2646 2401 1201 3106 1304 2102 3130 3170 1602 3202 3116 3008\n",
      " 2660 2657 3122 2616 2617  121 3125 2622 3004 2608 3203 2204 1601 2618\n",
      " 2642  990 3403  618 3123 2628 3305]\n",
      "\n",
      " Unique values of column: - DISTRICT\n",
      "['B2' 'E13' 'C11' 'A1' 'C6' 'D4' 'A7' 'E5' 'E18' 'D14' 'B3' 'A15' nan\n",
      " 'External']\n",
      "\n",
      " Unique values of column: - REPORTING_AREA\n",
      "['289' ' ' '465' '347' '204' '285' '68' '35' '200' '691' '183' '520' '784'\n",
      " '26' '138' '355' '574' '273' '320' '624' '20' '282' '77' '167' '810'\n",
      " '778' '527' '421' '577' '174' '350' '407' '587' '288' '135' '334' '785'\n",
      " '645' '83' '206' '603' '430' '377' '48' '428' '417' '936' '493' '262'\n",
      " '441' '44' '484' '814' '186' '326' '420' '749' '86' '585' '944' '73'\n",
      " '307' '594' '586' '907' '111' '61' '724' '774' '652' '55' '112' '550'\n",
      " '516' '367' '788' '296' '447' '64' '177' '122' '28' '129' '470' '75'\n",
      " '824' '406' '356' '232' '41' '426' '72' '341' '336' '786' '450' '822'\n",
      " '802' '522' '328' '790' '911' '213' '795' '397' '124' '612' '510' '455'\n",
      " '27' '143' '639' '243' '10' '171' '165' '317' '454' '939' '435' '306'\n",
      " '490' '472' '29' '170' '254' '389' '446' '457' '598' '460' '67' '508'\n",
      " '272' '463' '771' '113' '304' '79' '535' '303' '752' '735' '492' '794'\n",
      " '34' '800' '801' '900' '777' '352' '451' '467' '563' '710' '268' '125'\n",
      " '63' '93' '329' '901' '344' '295' '945' '783' '488' '789' '779' '345'\n",
      " '438' '66' '118' '379' '456' '271' '409' '618' '137' '680' '501' '434'\n",
      " '311' '207' '584' '613' '337' '610' '692' '480' '247' '393' '191' '388'\n",
      " '175' '418' '429' '78' '646' '494' '764' '92' '556' '327' '619' '808'\n",
      " '746' '338' '602' '17' '281' '280' '439' '168' '469' '321' '823' '261'\n",
      " '117' '803' '387' '239' '908' '333' '581' '796' '146' '792' '804' '466'\n",
      " '816' '349' '257' '319' '302' '325' '134' '719' '424' '96' '561' '548'\n",
      " '432' '912' '360' '276' '815' '230' '121' '453' '12' '103' '105' '119'\n",
      " '422' '315' '566' '98' '181' '69' '318' '611' '158' '499' '444' '578'\n",
      " '706' '56' '267' '87' '234' '431' '166' '462' '791' '149' '622' '24'\n",
      " '411' '464' '402' '943' '155' '131' '150' '23' '7' '770' '781' '797'\n",
      " '793' '475' '263' '631' '182' '627' '408' '906' '308' '32' '19' '533'\n",
      " '300' '395' '489' '621' '214' '172' '156' '537' '437' '498' '394' '768'\n",
      " '246' '458' '572' '772' '655' '403' '94' '626' '259' '720' '372' '938'\n",
      " '151' '8' '169' '244' '90' '179' '503' '766' '373' '521' '141' '442'\n",
      " '676' '102' '25' '635' '120' '297' '76' '620' '518' '513' '312' '359'\n",
      " '11' '364' '225' '30' '957' '474' '216' '681' '351' '358' '305' '589'\n",
      " '316' '951' '201' '363' '657' '242' '427' '241' '115' '104' '31' '448'\n",
      " '773' '807' '776' '128' '340' '335' '682' '591' '354' '188' '123' '751'\n",
      " '220' '913' '820' '476' '759' '348' '50' '279' '617' '45' '543' '1' '133'\n",
      " '284' '53' '579' '116' '536' '258' '806' '89' '517' '405' '362' '674'\n",
      " '775' '194' '39' '330' '189' '215' '223' '702' '747' '152' '157' '203'\n",
      " '178' '396' '753' '524' '481' '562' '40' '309' '370' '704' '479' '541'\n",
      " '661' '187' '760' '332' '145' '221' '748' '313' '685' '914' '903' '130'\n",
      " '799' '782' '299' '565' '601' '425' '80' '265' '623' '99' '714' '659'\n",
      " '22' '212' '224' '342' '416' '468' '595' '713' '941' '605' '59' '942'\n",
      " '384' '160' '287' '519' '507' '126' '58' '15' '231' '532' '754' '948'\n",
      " '495' '445' '741' '767' '787' '582' '21' '193' '695' '101' '85' '757'\n",
      " '38' '485' '656' '937' '211' '54' '240' '459' '5' '423' '644' '361' '70'\n",
      " '649' '915' '275' '404' '184' '264' '634' '805' '140' '629' '910' '226'\n",
      " '478' '185' '144' '237' '918' '496' '569' '173' '142' '607' '564' '538'\n",
      " '946' '378' '544' '529' '217' '162' '222' '641' '343' '292' '245' '255'\n",
      " '738' '482' '758' '670' '84' '270' '959' '542' '593' '916' '919' '560'\n",
      " '161' '14' '597' '2' '614' '205' '375' '298' '761' '625' '390' '398'\n",
      " '651' '353' '642' '235' '401' '755' '930' '637' '530' '376' '323' '570'\n",
      " '552' '628' '283' '248' '449' '382' '60' '486' '210' '176' '694' '512'\n",
      " '632' '483' '514' '369' '95' '357' '291' '286' '531' '583' '473' '573'\n",
      " '817' '238' '588' '314' '763' '385' '88' '630' '290' '229' '43' '730'\n",
      " '798' '664' '707' '132' '163' '331' '274' '419' '924' '732' '606' '604'\n",
      " '108' '487' '729' '383' '202' '962' '49' '153' '452' '608' '745' '249'\n",
      " '715' '410' '723' '540' '199' '365' '228' '575' '705' '236' '546' '391'\n",
      " '905' '136' '436' '750' '97' '722' '233' '812' '346' '615' '811' '920'\n",
      " '687' '904' '557' '415' '461' '523' '293' '16' '253' '696' '81' '106'\n",
      " '497' '600' '940' '251' '825' '192' '100' '139' '65' '366' '638' '266'\n",
      " '902' '721' '33' '677' '640' '36' '71' '525' '765' '553' '954' '260'\n",
      " '196' '324' '82' '3' '576' '708' '526' '159' '127' '62' '716' '509' '559'\n",
      " '195' '381' '147' '780' '322' '57' '756' '809' '571' '256' '164' '433'\n",
      " '821' '227' '909' '727' '91' '491' '180' '392' '74' '502' '252' '648'\n",
      " '545' '504' '736' '819' '558' '712' '921' '949' '400' '443' '47' '667'\n",
      " '46' '568' '818' '668' '339' '547' '414' '769' '109' '923' '731' '555'\n",
      " '616' '42' '726' '294' '539' '679' '700' '18' '4' '647' '219' '567' '927'\n",
      " '114' '6' '734' '711' '471' '728' '301' '599' '636' '380' '654' '762'\n",
      " '596' '673' '413' '368' '534' '515' '686' '658' '935' '933' '662' '110'\n",
      " '13' '609' '725' '500' '703' '148' '743' '549' '925' '528' '675' '960'\n",
      " '717' '733' '440' '310' '506' '52' '107' '953' '709' '154' '958' '684'\n",
      " '269' '374' '689' '643' '813' '650' '590' '956' '697' '698' '37' '209'\n",
      " '277' '197' '917' '551' '278' '718' '683' '693' '250' '701' '412' '660'\n",
      " '399' '9' '672' '505' '477' '208' '51' '952' '922' '511' '932' '740'\n",
      " '690' '744' '592' '742' '699' '665' '688' '386' '663' '678' '739' '633'\n",
      " '737' '554' '671']\n",
      "\n",
      " Unique values of column: - SHOOTING\n",
      "[0 1]\n",
      "\n",
      " Unique values of column: - YEAR\n",
      "[2021]\n",
      "\n",
      " Unique values of column: - MONTH\n",
      "[10  5  3  7 11  2  8  4  6  9  1]\n",
      "\n",
      " Unique values of column: - DAY_OF_WEEK\n",
      "['Wednesday' 'Monday' 'Tuesday' 'Friday' 'Saturday' 'Sunday' 'Thursday']\n",
      "\n",
      " Unique values of column: - HOUR\n",
      "[ 0 20 13  6 10 16  8 12  9 23  2 19 18 15 11  3  1 21 22 14 17  7  5  4]\n",
      "\n",
      " Unique values of column: - STREET\n",
      "['SCHROEDER PLZ' 'SCHROEDER PLAZA' 'BLUE HILL AVE' ... 'WESLEYAN PLACE'\n",
      " 'BRADFIELD AVENUE' 'G ST & E 8TH ST\\nBOSTON  MA 02127\\nUNITED STATES']\n",
      "\n",
      " Unique values of column: - Lat\n",
      "[42.33367922  0.         42.28482577 ... 42.37102497 42.28879992\n",
      " 42.33132004]\n",
      "\n",
      " Unique values of column: - Long\n",
      "[-71.09187755   0.         -71.09137369 ... -71.04094299 -71.1337079\n",
      " -71.04407996]\n"
     ]
    }
   ],
   "source": [
    "for col in df:\n",
    "    print ('\\n Unique values of column: - %s'%col)\n",
    "    print (df[col].unique())"
   ]
  },
  {
   "cell_type": "code",
   "execution_count": 20,
   "id": "f095a7e2",
   "metadata": {
    "scrolled": true
   },
   "outputs": [
    {
     "data": {
      "text/plain": [
       "OFFENSE_CODE        0\n",
       "DISTRICT          978\n",
       "REPORTING_AREA      0\n",
       "SHOOTING            0\n",
       "YEAR                0\n",
       "MONTH               0\n",
       "DAY_OF_WEEK         0\n",
       "HOUR                0\n",
       "STREET            679\n",
       "Lat                 0\n",
       "Long                0\n",
       "dtype: int64"
      ]
     },
     "execution_count": 20,
     "metadata": {},
     "output_type": "execute_result"
    }
   ],
   "source": [
    "df.isnull().sum()"
   ]
  },
  {
   "cell_type": "code",
   "execution_count": 21,
   "id": "435cd152",
   "metadata": {},
   "outputs": [],
   "source": [
    "#Dropping the NULL values\n",
    "df = df.dropna()\n",
    "df = df.drop(df[df.REPORTING_AREA == ' '].index)\n",
    "df['REPORTING_AREA'] = pd.to_numeric(df['REPORTING_AREA'])"
   ]
  },
  {
   "cell_type": "markdown",
   "id": "b8cab9f9",
   "metadata": {},
   "source": [
    "Dropping the rows which contains the blank data in REPORTING_AREA filed as this is imported for analysis and after that we are converting the datatype to numeric"
   ]
  },
  {
   "cell_type": "code",
   "execution_count": 22,
   "id": "9926a9b8",
   "metadata": {},
   "outputs": [
    {
     "name": "stdout",
     "output_type": "stream",
     "text": [
      "<class 'pandas.core.frame.DataFrame'>\n",
      "Int64Index: 52381 entries, 0 to 65703\n",
      "Data columns (total 11 columns):\n",
      " #   Column          Non-Null Count  Dtype  \n",
      "---  ------          --------------  -----  \n",
      " 0   OFFENSE_CODE    52381 non-null  int64  \n",
      " 1   DISTRICT        52381 non-null  object \n",
      " 2   REPORTING_AREA  52381 non-null  int64  \n",
      " 3   SHOOTING        52381 non-null  int64  \n",
      " 4   YEAR            52381 non-null  int64  \n",
      " 5   MONTH           52381 non-null  int64  \n",
      " 6   DAY_OF_WEEK     52381 non-null  object \n",
      " 7   HOUR            52381 non-null  int64  \n",
      " 8   STREET          52381 non-null  object \n",
      " 9   Lat             52381 non-null  float64\n",
      " 10  Long            52381 non-null  float64\n",
      "dtypes: float64(2), int64(6), object(3)\n",
      "memory usage: 4.8+ MB\n"
     ]
    }
   ],
   "source": [
    "df.info()"
   ]
  },
  {
   "cell_type": "code",
   "execution_count": 23,
   "id": "630dfe53",
   "metadata": {},
   "outputs": [],
   "source": [
    "#df['DAY_OF_WEEK']=preprocessing.LabelEncoder().fit_transform( df ['DAY_OF_WEEK'] )\n",
    "df['DAY_OF_WEEK'] = df['DAY_OF_WEEK'].map({'Monday':1, 'Tuesday':2, 'Wednesday':3, 'Thursday':4, 'Friday':5, 'Saturday':6, 'Sunday':7})"
   ]
  },
  {
   "cell_type": "markdown",
   "id": "d3e4a7f8",
   "metadata": {},
   "source": [
    "Converted the Categorical into numeric."
   ]
  },
  {
   "cell_type": "code",
   "execution_count": 24,
   "id": "f0ade601",
   "metadata": {
    "scrolled": false
   },
   "outputs": [
    {
     "data": {
      "text/html": [
       "<div>\n",
       "<style scoped>\n",
       "    .dataframe tbody tr th:only-of-type {\n",
       "        vertical-align: middle;\n",
       "    }\n",
       "\n",
       "    .dataframe tbody tr th {\n",
       "        vertical-align: top;\n",
       "    }\n",
       "\n",
       "    .dataframe thead th {\n",
       "        text-align: right;\n",
       "    }\n",
       "</style>\n",
       "<table border=\"1\" class=\"dataframe\">\n",
       "  <thead>\n",
       "    <tr style=\"text-align: right;\">\n",
       "      <th></th>\n",
       "      <th>OFFENSE_CODE</th>\n",
       "      <th>DISTRICT</th>\n",
       "      <th>REPORTING_AREA</th>\n",
       "      <th>SHOOTING</th>\n",
       "      <th>YEAR</th>\n",
       "      <th>MONTH</th>\n",
       "      <th>DAY_OF_WEEK</th>\n",
       "      <th>HOUR</th>\n",
       "      <th>STREET</th>\n",
       "      <th>Lat</th>\n",
       "      <th>Long</th>\n",
       "    </tr>\n",
       "  </thead>\n",
       "  <tbody>\n",
       "    <tr>\n",
       "      <th>0</th>\n",
       "      <td>520</td>\n",
       "      <td>B2</td>\n",
       "      <td>289</td>\n",
       "      <td>0</td>\n",
       "      <td>2021</td>\n",
       "      <td>10</td>\n",
       "      <td>3</td>\n",
       "      <td>0</td>\n",
       "      <td>SCHROEDER PLZ</td>\n",
       "      <td>42.333679</td>\n",
       "      <td>-71.091878</td>\n",
       "    </tr>\n",
       "    <tr>\n",
       "      <th>1</th>\n",
       "      <td>3114</td>\n",
       "      <td>B2</td>\n",
       "      <td>289</td>\n",
       "      <td>0</td>\n",
       "      <td>2021</td>\n",
       "      <td>5</td>\n",
       "      <td>3</td>\n",
       "      <td>0</td>\n",
       "      <td>SCHROEDER PLZ</td>\n",
       "      <td>42.333679</td>\n",
       "      <td>-71.091878</td>\n",
       "    </tr>\n",
       "    <tr>\n",
       "      <th>2</th>\n",
       "      <td>3114</td>\n",
       "      <td>B2</td>\n",
       "      <td>289</td>\n",
       "      <td>0</td>\n",
       "      <td>2021</td>\n",
       "      <td>5</td>\n",
       "      <td>3</td>\n",
       "      <td>0</td>\n",
       "      <td>SCHROEDER PLZ</td>\n",
       "      <td>42.333679</td>\n",
       "      <td>-71.091878</td>\n",
       "    </tr>\n",
       "    <tr>\n",
       "      <th>4</th>\n",
       "      <td>3201</td>\n",
       "      <td>E13</td>\n",
       "      <td>465</td>\n",
       "      <td>0</td>\n",
       "      <td>2021</td>\n",
       "      <td>3</td>\n",
       "      <td>1</td>\n",
       "      <td>0</td>\n",
       "      <td>BLUE HILL AVE</td>\n",
       "      <td>42.284826</td>\n",
       "      <td>-71.091374</td>\n",
       "    </tr>\n",
       "    <tr>\n",
       "      <th>5</th>\n",
       "      <td>3301</td>\n",
       "      <td>C11</td>\n",
       "      <td>347</td>\n",
       "      <td>0</td>\n",
       "      <td>2021</td>\n",
       "      <td>7</td>\n",
       "      <td>3</td>\n",
       "      <td>20</td>\n",
       "      <td>LYON ST</td>\n",
       "      <td>42.306383</td>\n",
       "      <td>-71.060212</td>\n",
       "    </tr>\n",
       "  </tbody>\n",
       "</table>\n",
       "</div>"
      ],
      "text/plain": [
       "   OFFENSE_CODE DISTRICT  REPORTING_AREA  SHOOTING  YEAR  MONTH  DAY_OF_WEEK  \\\n",
       "0           520       B2             289         0  2021     10            3   \n",
       "1          3114       B2             289         0  2021      5            3   \n",
       "2          3114       B2             289         0  2021      5            3   \n",
       "4          3201      E13             465         0  2021      3            1   \n",
       "5          3301      C11             347         0  2021      7            3   \n",
       "\n",
       "   HOUR         STREET        Lat       Long  \n",
       "0     0  SCHROEDER PLZ  42.333679 -71.091878  \n",
       "1     0  SCHROEDER PLZ  42.333679 -71.091878  \n",
       "2     0  SCHROEDER PLZ  42.333679 -71.091878  \n",
       "4     0  BLUE HILL AVE  42.284826 -71.091374  \n",
       "5    20        LYON ST  42.306383 -71.060212  "
      ]
     },
     "execution_count": 24,
     "metadata": {},
     "output_type": "execute_result"
    }
   ],
   "source": [
    "df.head()"
   ]
  },
  {
   "cell_type": "markdown",
   "id": "fc961b88",
   "metadata": {},
   "source": [
    "## Descriptive Analysis"
   ]
  },
  {
   "cell_type": "code",
   "execution_count": 25,
   "id": "e1c10f28",
   "metadata": {},
   "outputs": [
    {
     "data": {
      "image/png": "[encoded data removed]",
      "text/plain": [
       "<Figure size 432x288 with 2 Axes>"
      ]
     },
     "metadata": {
      "needs_background": "light"
     },
     "output_type": "display_data"
    }
   ],
   "source": [
    "sns.heatmap(df.corr(),cmap='BuPu',annot=True)\n",
    "plt.show()"
   ]
  },
  {
   "cell_type": "code",
   "execution_count": 26,
   "id": "20b523c4",
   "metadata": {},
   "outputs": [
    {
     "data": {
      "text/plain": [
       "<AxesSubplot:title={'center':'Number of crime in each District'}>"
      ]
     },
     "execution_count": 26,
     "metadata": {},
     "output_type": "execute_result"
    },
    {
     "data": {
      "image/png": "[encoded data removed]",
      "text/plain": [
       "<Figure size 612x504 with 1 Axes>"
      ]
     },
     "metadata": {
      "needs_background": "light"
     },
     "output_type": "display_data"
    }
   ],
   "source": [
    "df['DISTRICT'].value_counts().plot(kind='bar', title=\"Number of crime in each District\", figsize=(8.5, 7))"
   ]
  },
  {
   "cell_type": "code",
   "execution_count": 27,
   "id": "fd020ad6",
   "metadata": {},
   "outputs": [
    {
     "data": {
      "text/plain": [
       "Text(0.5, 0, 'Month')"
      ]
     },
     "execution_count": 27,
     "metadata": {},
     "output_type": "execute_result"
    },
    {
     "data": {
      "image/png": "[encoded data removed]",
      "text/plain": [
       "<Figure size 432x288 with 1 Axes>"
      ]
     },
     "metadata": {
      "needs_background": "light"
     },
     "output_type": "display_data"
    }
   ],
   "source": [
    "monthlyGrp = df.groupby(df['MONTH'])['DISTRICT'].agg('count')\n",
    "monthlyGrp.plot(kind = 'bar')\n",
    "plt.title('Frequency of Offense in Month')\n",
    "plt.ylabel('Number of Offense')\n",
    "plt.xlabel('Month')"
   ]
  },
  {
   "cell_type": "code",
   "execution_count": 28,
   "id": "55285215",
   "metadata": {
    "scrolled": true
   },
   "outputs": [
    {
     "data": {
      "text/plain": [
       "Text(0.5, 0, 'Type of Offense')"
      ]
     },
     "execution_count": 28,
     "metadata": {},
     "output_type": "execute_result"
    },
    {
     "data": {
      "image/png": "[encoded data removed]",
      "text/plain": [
       "<Figure size 720x360 with 1 Axes>"
      ]
     },
     "metadata": {
      "needs_background": "light"
     },
     "output_type": "display_data"
    }
   ],
   "source": [
    "df['OFFENSE_CODE'].value_counts().nlargest(50).plot(kind='bar',figsize=(10,5))\n",
    "plt.title('Frequency of Offense Code')\n",
    "plt.ylabel('Number of Offense')\n",
    "plt.xlabel('Type of Offense')"
   ]
  },
  {
   "cell_type": "markdown",
   "id": "3c9be2e1",
   "metadata": {},
   "source": [
    "## Predictive analysis"
   ]
  },
  {
   "cell_type": "markdown",
   "id": "ed2d1db6",
   "metadata": {},
   "source": [
    "#### Preparing the dataset for the Logistic model"
   ]
  },
  {
   "cell_type": "code",
   "execution_count": 29,
   "id": "a4aec4f7",
   "metadata": {
    "scrolled": true
   },
   "outputs": [
    {
     "name": "stdout",
     "output_type": "stream",
     "text": [
      "<class 'pandas.core.frame.DataFrame'>\n",
      "Int64Index: 52381 entries, 0 to 65703\n",
      "Data columns (total 23 columns):\n",
      " #   Column             Non-Null Count  Dtype  \n",
      "---  ------             --------------  -----  \n",
      " 0   OFFENSE_CODE       52381 non-null  int64  \n",
      " 1   REPORTING_AREA     52381 non-null  int64  \n",
      " 2   SHOOTING           52381 non-null  int64  \n",
      " 3   YEAR               52381 non-null  int64  \n",
      " 4   MONTH              52381 non-null  int64  \n",
      " 5   DAY_OF_WEEK        52381 non-null  int64  \n",
      " 6   HOUR               52381 non-null  int64  \n",
      " 7   STREET             52381 non-null  object \n",
      " 8   Lat                52381 non-null  float64\n",
      " 9   Long               52381 non-null  float64\n",
      " 10  DISTRICT_A1        52381 non-null  uint8  \n",
      " 11  DISTRICT_A15       52381 non-null  uint8  \n",
      " 12  DISTRICT_A7        52381 non-null  uint8  \n",
      " 13  DISTRICT_B2        52381 non-null  uint8  \n",
      " 14  DISTRICT_B3        52381 non-null  uint8  \n",
      " 15  DISTRICT_C11       52381 non-null  uint8  \n",
      " 16  DISTRICT_C6        52381 non-null  uint8  \n",
      " 17  DISTRICT_D14       52381 non-null  uint8  \n",
      " 18  DISTRICT_D4        52381 non-null  uint8  \n",
      " 19  DISTRICT_E13       52381 non-null  uint8  \n",
      " 20  DISTRICT_E18       52381 non-null  uint8  \n",
      " 21  DISTRICT_E5        52381 non-null  uint8  \n",
      " 22  DISTRICT_External  52381 non-null  uint8  \n",
      "dtypes: float64(2), int64(7), object(1), uint8(13)\n",
      "memory usage: 5.0+ MB\n"
     ]
    }
   ],
   "source": [
    "df = pd.get_dummies(df, columns=['DISTRICT'])\n",
    "df.info()"
   ]
  },
  {
   "cell_type": "markdown",
   "id": "cb6d2755",
   "metadata": {},
   "source": [
    "Created the Dummy variables for the district"
   ]
  },
  {
   "cell_type": "code",
   "execution_count": 30,
   "id": "b15f5389",
   "metadata": {},
   "outputs": [],
   "source": [
    "y = df['SHOOTING']\n",
    "x = df.drop(['SHOOTING','STREET'], axis = 1)"
   ]
  },
  {
   "cell_type": "markdown",
   "id": "dc6f9b8a",
   "metadata": {},
   "source": [
    "Divided the dataset into two part as Shooting as Depenedent variable and Other parameter as Independent variables. Also we are going to divide the dataset into 7:3 ratio for train and test dataset"
   ]
  },
  {
   "cell_type": "code",
   "execution_count": 31,
   "id": "7133c69f",
   "metadata": {
    "scrolled": true
   },
   "outputs": [],
   "source": [
    "xTrain, xTest, yTrain, yTest = train_test_split(x, y, test_size=.3 ,random_state=9)"
   ]
  },
  {
   "cell_type": "markdown",
   "id": "ee2174f9",
   "metadata": {},
   "source": [
    "### How we can reduce the shooting rate?\n",
    "For this we need to know the independent variable affeced the dependent variable (Shooting) to reduce the shooting rate."
   ]
  },
  {
   "cell_type": "code",
   "execution_count": 32,
   "id": "6d048a42",
   "metadata": {
    "scrolled": true
   },
   "outputs": [
    {
     "name": "stdout",
     "output_type": "stream",
     "text": [
      "Optimization terminated successfully.\n",
      "         Current function value: 0.060495\n",
      "         Iterations 11\n",
      "                           Logit Regression Results                           \n",
      "==============================================================================\n",
      "Dep. Variable:               SHOOTING   No. Observations:                52381\n",
      "Model:                          Logit   Df Residuals:                    52361\n",
      "Method:                           MLE   Df Model:                           19\n",
      "Date:                Wed, 01 Dec 2021   Pseudo R-squ.:                 0.08637\n",
      "Time:                        18:19:45   Log-Likelihood:                -3168.8\n",
      "converged:                       True   LL-Null:                       -3468.3\n",
      "Covariance Type:            nonrobust   LLR p-value:                7.760e-115\n",
      "=====================================================================================\n",
      "                        coef    std err          z      P>|z|      [0.025      0.975]\n",
      "-------------------------------------------------------------------------------------\n",
      "OFFENSE_CODE         -0.0002   3.31e-05     -6.282      0.000      -0.000      -0.000\n",
      "REPORTING_AREA        0.0010      0.000      3.695      0.000       0.000       0.002\n",
      "YEAR                 -0.0031        nan        nan        nan         nan         nan\n",
      "MONTH                -0.0230      0.014     -1.691      0.091      -0.050       0.004\n",
      "DAY_OF_WEEK           0.0339      0.020      1.683      0.092      -0.006       0.073\n",
      "HOUR                 -0.0021      0.006     -0.337      0.736      -0.014       0.010\n",
      "Lat                  -3.4010      3.305     -1.029      0.303      -9.879       3.077\n",
      "Long                 -2.0437      1.967     -1.039      0.299      -5.899       1.812\n",
      "DISTRICT_A1          -1.1810        nan        nan        nan         nan         nan\n",
      "DISTRICT_A15         -0.2279        nan        nan        nan         nan         nan\n",
      "DISTRICT_A7           0.1065        nan        nan        nan         nan         nan\n",
      "DISTRICT_B2           1.3530        nan        nan        nan         nan         nan\n",
      "DISTRICT_B3           1.5359        nan        nan        nan         nan         nan\n",
      "DISTRICT_C11          0.8067        nan        nan        nan         nan         nan\n",
      "DISTRICT_C6          -0.1716        nan        nan        nan         nan         nan\n",
      "DISTRICT_D14         -1.3472        nan        nan        nan         nan         nan\n",
      "DISTRICT_D4          -0.5287        nan        nan        nan         nan         nan\n",
      "DISTRICT_E13          0.4224        nan        nan        nan         nan         nan\n",
      "DISTRICT_E18         -0.5503        nan        nan        nan         nan         nan\n",
      "DISTRICT_E5          -0.9675        nan        nan        nan         nan         nan\n",
      "DISTRICT_External     0.7505        nan        nan        nan         nan         nan\n",
      "=====================================================================================\n"
     ]
    }
   ],
   "source": [
    "xConstant = sm.add_constant(x)\n",
    "lmodel = sm.Logit(y, xConstant) \n",
    "lmodelFit = lmodel.fit()\n",
    "print(lmodelFit.summary())"
   ]
  },
  {
   "cell_type": "markdown",
   "id": "4cc61b9b",
   "metadata": {},
   "source": [
    "After exection of the model, we know that how independent variable affects the shooting. Let's reduce the result to know more."
   ]
  },
  {
   "cell_type": "code",
   "execution_count": 33,
   "id": "bbb31f88",
   "metadata": {
    "scrolled": true
   },
   "outputs": [
    {
     "data": {
      "text/html": [
       "<div>\n",
       "<style scoped>\n",
       "    .dataframe tbody tr th:only-of-type {\n",
       "        vertical-align: middle;\n",
       "    }\n",
       "\n",
       "    .dataframe tbody tr th {\n",
       "        vertical-align: top;\n",
       "    }\n",
       "\n",
       "    .dataframe thead th {\n",
       "        text-align: right;\n",
       "    }\n",
       "</style>\n",
       "<table border=\"1\" class=\"dataframe\">\n",
       "  <thead>\n",
       "    <tr style=\"text-align: right;\">\n",
       "      <th></th>\n",
       "      <th>pValue</th>\n",
       "      <th>coef</th>\n",
       "    </tr>\n",
       "  </thead>\n",
       "  <tbody>\n",
       "    <tr>\n",
       "      <th>OFFENSE_CODE</th>\n",
       "      <td>3.352801e-10</td>\n",
       "      <td>-0.000208</td>\n",
       "    </tr>\n",
       "    <tr>\n",
       "      <th>REPORTING_AREA</th>\n",
       "      <td>2.198635e-04</td>\n",
       "      <td>0.001027</td>\n",
       "    </tr>\n",
       "  </tbody>\n",
       "</table>\n",
       "</div>"
      ],
      "text/plain": [
       "                      pValue      coef\n",
       "OFFENSE_CODE    3.352801e-10 -0.000208\n",
       "REPORTING_AREA  2.198635e-04  0.001027"
      ]
     },
     "execution_count": 33,
     "metadata": {},
     "output_type": "execute_result"
    }
   ],
   "source": [
    "pVal = pd.DataFrame(lmodelFit.pvalues, columns=['pValue'])\n",
    "coefVal = pd.DataFrame(lmodelFit.params, columns= ['coef'])\n",
    "LReg = pd.concat([pVal, coefVal], axis = 1)\n",
    "LReg[(LReg['pValue'] < 0.05)==True]"
   ]
  },
  {
   "cell_type": "markdown",
   "id": "c07e1ca9",
   "metadata": {},
   "source": [
    "Now, we have two most significant variable which are affected the shooting rate which we can use to reduce the rate."
   ]
  },
  {
   "cell_type": "code",
   "execution_count": 34,
   "id": "ced6ee76",
   "metadata": {},
   "outputs": [],
   "source": [
    "logisticReg = LogisticRegression()\n",
    "model = logisticReg.fit(xTrain, yTrain)"
   ]
  },
  {
   "cell_type": "code",
   "execution_count": 35,
   "id": "3c46e0c1",
   "metadata": {},
   "outputs": [
    {
     "name": "stdout",
     "output_type": "stream",
     "text": [
      "[[15537     0]\n",
      " [  178     0]]\n"
     ]
    }
   ],
   "source": [
    "yLPred = logisticReg.predict(xTest)\n",
    "print(confusion_matrix(yTest, model.predict(xTest)))"
   ]
  },
  {
   "cell_type": "code",
   "execution_count": 36,
   "id": "0a058ccf",
   "metadata": {},
   "outputs": [
    {
     "name": "stdout",
     "output_type": "stream",
     "text": [
      "Classification report - \n",
      "               precision    recall  f1-score   support\n",
      "\n",
      "           0       0.99      1.00      0.99     15537\n",
      "           1       0.00      0.00      0.00       178\n",
      "\n",
      "    accuracy                           0.99     15715\n",
      "   macro avg       0.49      0.50      0.50     15715\n",
      "weighted avg       0.98      0.99      0.98     15715\n",
      "\n"
     ]
    }
   ],
   "source": [
    "print(\"Classification report - \\n\", classification_report(yTest,yLPred))"
   ]
  },
  {
   "cell_type": "markdown",
   "id": "a1e46799",
   "metadata": {},
   "source": [
    "Accuracy of the model is 99% which indicates that the logisitic model performed well and we can make use of this to reduce the shooting incidents."
   ]
  },
  {
   "cell_type": "markdown",
   "id": "9dd2da2b",
   "metadata": {},
   "source": [
    "## Conclusion\n",
    "\n",
    "In the conclusion of the this assignment, we have utilised the various method and techniques we learned throughout the course to solve this assignment. We have downloaded the publicly available dataset and performed the exploriatory data analysis and created viuslization. Apart from that after data cleaning, we have created some Descriptive and Predictive analysis for that we have used the logistic model to know how we can reduce the crime rate and overall it was difficult to perform the analysis but I enjoyed the whole process of assignment.  \n"
   ]
  },
  {
   "cell_type": "markdown",
   "id": "b1009909",
   "metadata": {},
   "source": [
    "# Reference\n",
    "### \n",
    "Robinson, S. (2017, October 31). Download Files with Python. Stack Abuse. https://stackabuse.com/download-files-with-python/\n",
    "\n",
    "Gallagher, J. (2021, January 20). Python Average: A Step-by-Step Guide. Career Karma. https://careerkarma.com/blog/python-average/\n",
    "\n",
    "sklearn.preprocessing.LabelEncoder — scikit-learn 0.24.2 documentation. (n.d.). Https://Scikit-Learn.Org/Stable/Modules/Generated/Sklearn.Preprocessing.LabelEncoder.Html\n"
   ]
  }
 ],
 "metadata": {
  "kernelspec": {
   "display_name": "Python 3",
   "language": "python",
   "name": "python3"
  },
  "language_info": {
   "codemirror_mode": {
    "name": "ipython",
    "version": 3
   },
   "file_extension": ".py",
   "mimetype": "text/x-python",
   "name": "python",
   "nbconvert_exporter": "python",
   "pygments_lexer": "ipython3",
   "version": "3.8.8"
  }
 },
 "nbformat": 4,
 "nbformat_minor": 5
}
